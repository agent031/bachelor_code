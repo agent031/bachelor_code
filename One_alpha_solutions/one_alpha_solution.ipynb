{
 "cells": [
  {
   "cell_type": "code",
   "execution_count": 16,
   "metadata": {},
   "outputs": [],
   "source": [
    "import matplotlib as mpl\n",
    "import matplotlib.pyplot as plt\n",
    "from astropy.constants import c, k_B, M_sun, G, m_p, sigma_sb, m_p\n",
    "import astropy.units as u\n",
    "from scipy.integrate import solve_ivp\n",
    "from scipy.sparse import csr_matrix\n",
    "from scipy.integrate import LSODA\n",
    "import numpy as np\n",
    "import numba\n",
    "import sys\n",
    "\n",
    "sys.path.append('../Numerical_methods')\n",
    "from matrix_calculator import A_matrix\n",
    "from scheme_calculator import forward_backward\n",
    "from bachelor_funcs import Σ_initial, r_array, get_1_dev_irr, first_dev_matrix, r_ghost, sA_ghost, A_ghost\n",
    "\n",
    "# Set som plotting standards:\n",
    "font = {'family' : 'serif',\n",
    "        'weight' : 'normal',\n",
    "        'size'   : 12}\n",
    "mpl.rc('font', **font)"
   ]
  },
  {
   "cell_type": "markdown",
   "metadata": {},
   "source": [
    "### Equation 10 from Suzuki\n",
    "\n",
    "$$  \\frac{\\partial\\Sigma}{\\partial t} - \\frac{1}{r}\\frac{\\partial}{\\partial r}\\left[\n",
    "    \\frac{2}{r\\Omega}\\left\\{\n",
    "    \\frac{\\partial}{\\partial r}\\left(\n",
    "    r^2\\Sigma\\alpha_{r\\phi}c_s^2\n",
    "    \\right)\n",
    "    + r^2\\alpha_{\\phi z}(\\rho c_s^2)_{\\textrm{mid}}\n",
    "    \\right\\}\\right]\n",
    "    + C_{\\textrm{w}}(\\rho c_s)_{\\textrm{mid}}\n",
    "    \\;=\\;0$$\n",
    "\n",
    "$$\n",
    "\\Omega\\approx\\Omega_K=\\sqrt{\\frac{GM_*}{r^3}}\n",
    "$$    \n",
    "\n",
    "$$\n",
    "c_s^2=\\frac{k_BT}{\\mu m_H}\n",
    "$$\n",
    "\n",
    "#### Neglecting disc wind and torque:\n",
    "$$  \\frac{\\partial\\Sigma}{\\partial t} - \\frac{1}{r}\\frac{\\partial}{\\partial r}\\left[\n",
    "    \\frac{2}{r\\Omega}\\left\\{\n",
    "    \\frac{\\partial}{\\partial r}\\left(\n",
    "    r^2\\Sigma\\alpha_{r\\phi}c_s^2\n",
    "    \\right)\n",
    "    \\right\\}\\right]\n",
    "    \n",
    "    \\;=\\;0$$\n",
    "\n",
    "#### From B.10:\n",
    "$$\\sigma_\\textrm{SB}T^4=\\frac{3}{4}\\Omega\\Sigma\\bar{\\alpha_{r\\phi}}c_s^2$$\n",
    "\n",
    "$$\\Rightarrow \\quad c_s^6\\;=\\;\\frac{1}{\\sigma_\\textrm{SB}}\n",
    "\\left(\\frac{\\mu m_{H}}{K_B}\\right)^{-4}\n",
    "\\frac{3}{4}\\Omega\\Sigma \\bar{\\alpha_{r\\phi}}\n",
    "$$"
   ]
  },
  {
   "cell_type": "code",
   "execution_count": 17,
   "metadata": {},
   "outputs": [],
   "source": [
    "μ = 2.34    #(Hayashi 1981)"
   ]
  },
  {
   "cell_type": "code",
   "execution_count": 18,
   "metadata": {},
   "outputs": [],
   "source": [
    "def Omega_kep(r):\n",
    "    return np.sqrt((G * M_sun) / r**3)\n",
    "\n",
    "\n",
    "def c_s(Ω,  Σ, α_rφ = 8e-3):\n",
    "    return ((sigma_sb**(-1) * (μ * m_p / k_B)**(-4) * 3/4 * Ω * Σ * α_rφ)**(1/6)).to('m/s')"
   ]
  },
  {
   "cell_type": "code",
   "execution_count": 19,
   "metadata": {},
   "outputs": [
    {
     "data": {
      "text/latex": [
       "$[9063.5497,~8845.0943,~8636.8609,~\\dots,~6.9682639 \\times 10^{-24},~6.7757218 \\times 10^{-24},~6.5884546 \\times 10^{-24}] \\; \\mathrm{\\frac{m}{s}}$"
      ],
      "text/plain": [
       "<Quantity [9.06354973e+03, 8.84509427e+03, 8.63686089e+03, ...,\n",
       "           6.96826393e-24, 6.77572184e-24, 6.58845461e-24] m / s>"
      ]
     },
     "execution_count": 19,
     "metadata": {},
     "output_type": "execute_result"
    }
   ],
   "source": [
    "r = r_array * u.au\n",
    "c_s(Omega_kep(r), Σ_initial(r))"
   ]
  },
  {
   "cell_type": "markdown",
   "metadata": {},
   "source": [
    "### Imposing the boundary condition $\\frac{\\partial}{\\partial r}(\\Sigma r^{3/2})=0$\n",
    "\n",
    "$$\\frac{\\partial}{\\partial r}(\\Sigma r^{3/2})=0$$\n",
    "$$\\Rightarrow\\frac{\\partial}{\\partial r}(\\Sigma)\\cdot r^{3/2}\\;+\\;\\frac{3}{2}\\Sigma r^{1/2}=0$$\n",
    "$$\\Sigma r^{2}=-\\frac{2}{3}\\;r^{3}\\;\\frac{\\partial}{\\partial r}\\Sigma$$\n"
   ]
  },
  {
   "cell_type": "code",
   "execution_count": 20,
   "metadata": {},
   "outputs": [],
   "source": [
    "α_rφ = 8e-3\n",
    "\n",
    "def one_alpha(Σ):\n",
    "    \n",
    "    inner_1 = Σ * r**(2)\n",
    "    #inner_1[0] = boundary[0]\n",
    "    #inner_1[-1] = boundary[-1]\n",
    "\n",
    "    inner_2 = α_rφ * c_s(Omega_kep(r), Σ)**2\n",
    "\n",
    "    inner_dev = get_1_dev_irr(inner_1 * inner_2)\n",
    "    print(inner_dev.unit)\n",
    "    \n",
    "    outer_dev = get_1_dev_irr(2 / (r *Omega_kep(r)) * inner_dev)\n",
    "    print((r**(-1)*outer_dev).unit)\n",
    "\n",
    "    #outer_dev[0] = 0\n",
    "    #outer_dev[-1] = 0\n",
    "\n",
    "    return ((r**(-1) * outer_dev * u.au**(-2)).to('mg/(yr * cm^2)'))"
   ]
  },
  {
   "cell_type": "code",
   "execution_count": 21,
   "metadata": {},
   "outputs": [
    {
     "name": "stdout",
     "output_type": "stream",
     "text": [
      "AU2 g m2 / (cm2 s2)\n",
      "AU(3/2) g m(1/2) / (cm2 s)\n"
     ]
    },
    {
     "data": {
      "text/latex": [
       "$[7.7811694 \\times 10^{8},~6.8160949 \\times 10^{8},~5.9282869 \\times 10^{8},~\\dots,~3.8495733 \\times 10^{-197},~3.0536719 \\times 10^{-197},~2.321186 \\times 10^{-197}] \\; \\mathrm{\\frac{mg}{yr\\,cm^{2}}}$"
      ],
      "text/plain": [
       "<Quantity [7.78116936e+008, 6.81609487e+008, 5.92828689e+008, ...,\n",
       "           3.84957331e-197, 3.05367187e-197, 2.32118601e-197] mg / (cm2 yr)>"
      ]
     },
     "execution_count": 21,
     "metadata": {},
     "output_type": "execute_result"
    }
   ],
   "source": [
    "one_alpha(Σ_initial(r))"
   ]
  },
  {
   "cell_type": "code",
   "execution_count": 22,
   "metadata": {},
   "outputs": [
    {
     "data": {
      "text/plain": [
       "(<4048x4048 sparse matrix of type '<class 'numpy.float64'>'\n",
       " \twith 12138 stored elements in Compressed Sparse Row format>,\n",
       " (4048, 4048))"
      ]
     },
     "execution_count": 22,
     "metadata": {},
     "output_type": "execute_result"
    }
   ],
   "source": [
    "α_rφ = 8e-3\n",
    "sA_ghost, np.shape(A_ghost), "
   ]
  },
  {
   "cell_type": "code",
   "execution_count": 23,
   "metadata": {},
   "outputs": [
    {
     "data": {
      "text/plain": [
       "array([-0.10000227,  0.        ,  0.10000227,  0.        ])"
      ]
     },
     "execution_count": 23,
     "metadata": {},
     "output_type": "execute_result"
    }
   ],
   "source": [
    "A_ghost[-2,-4:]"
   ]
  },
  {
   "cell_type": "code",
   "execution_count": 24,
   "metadata": {},
   "outputs": [],
   "source": [
    "def one_alpha2(t, Σ):\n",
    "    Σ = Σ *  u.g * u.cm**-2\n",
    "    r_ghost_au = r_ghost * u.au\n",
    "    r_au = r_array * u.au\n",
    "    Σ = Σ_initial(r_au)\n",
    "\n",
    "    inner = r_au**2 * Σ * α_rφ * c_s(Omega_kep(r_au), Σ)**2\n",
    "    inner_unit = inner.unit\n",
    "\n",
    "    ghost_1 = np.array([inner[1].value])\n",
    "    ghost_2 = np.array([inner[-2].value])\n",
    "\n",
    "    inner_ghost = np.concatenate((ghost_1, np.array(inner), ghost_2)) * inner_unit\n",
    "\n",
    "    outer_ghost = 2 / (r_ghost_au * Omega_kep(r_ghost_au)) * (A_ghost @ inner_ghost)\n",
    "    \n",
    "    sec_dev = 1/r_ghost_au * (A_ghost @ outer_ghost)\n",
    "\n",
    "    df_dt = (sec_dev[1: -1] * u.au**(-2)).to('mg/(yr * cm^2)')\n",
    "\n",
    "    return df_dt.value "
   ]
  },
  {
   "cell_type": "code",
   "execution_count": 25,
   "metadata": {},
   "outputs": [
    {
     "data": {
      "text/latex": [
       "$[-7.7016221 \\times 10^{9},~-6.9564524 \\times 10^{9},~5.9551266 \\times 10^{8},~5.1778533 \\times 10^{8},~4.5162574 \\times 10^{8},~3.9510964 \\times 10^{8},~3.4666518 \\times 10^{8},~3.050027 \\times 10^{8},~2.690596 \\times 10^{8},~2.3795679 \\times 10^{8}] \\; \\mathrm{\\frac{mg}{yr\\,cm^{2}}}$"
      ],
      "text/plain": [
       "<Quantity [-7.70162209e+09, -6.95645239e+09,  5.95512659e+08,\n",
       "            5.17785330e+08,  4.51625741e+08,  3.95109638e+08,\n",
       "            3.46665176e+08,  3.05002698e+08,  2.69059597e+08,\n",
       "            2.37956792e+08] mg / (cm2 yr)>"
      ]
     },
     "execution_count": 25,
     "metadata": {},
     "output_type": "execute_result"
    }
   ],
   "source": [
    "#def one_alpha3(t, Σ):\n",
    "Σ = Σ_initial(r_array * u.au).value\n",
    "Σ = Σ *  u.g * u.cm**-2\n",
    "r_ghost_au = r_ghost * u.au\n",
    "r_au = r_array * u.au\n",
    "\n",
    "\n",
    "#Calculating inner function\n",
    "inner = r_au**2 * Σ * α_rφ * c_s(Omega_kep(r_au), Σ)**2\n",
    "inner_unit = inner.unit\n",
    "\n",
    "# Making ghost point to set derivative to zero for boundary\n",
    "ghost_1 = np.array([inner[1].value])\n",
    "ghost_2 = np.array([inner[-2].value])\n",
    "inner_ghost = np.concatenate((ghost_1, np.array(inner), ghost_2)) * inner_unit\n",
    "\n",
    "outer_ghost = 2 / (r_ghost_au * Omega_kep(r_ghost_au)) * (A_ghost @ inner_ghost)\n",
    "\n",
    "sec_dev = 1/r_ghost_au * (A_ghost @ outer_ghost)\n",
    "\n",
    "\n",
    "df_dt = (sec_dev[1: -1] * u.au**(-2)).to('mg/(yr * cm^2)')\n",
    "\n",
    "df_dt[:10]\n",
    "\n",
    "    #return df_dt"
   ]
  },
  {
   "cell_type": "markdown",
   "metadata": {},
   "source": [
    "#### \"one_alphaX\" return in terms of:\n",
    "$$\\left[\\frac{g}{cm^2}\\frac{1}{kyr}\\right]$$"
   ]
  },
  {
   "cell_type": "code",
   "execution_count": 26,
   "metadata": {},
   "outputs": [],
   "source": [
    "# Default values for tolerance:\n",
    "# rtol: 1e-3, 1e-6\n",
    "# atol: 1e-6, 1e-4 \n",
    "\n",
    "times = np.arange(0, 1001, 0.01)\n",
    "# This termimal takes just about 3min to run\n",
    "sol = solve_ivp(one_alpha2, [times[0], times[-1]], y0 = Σ_initial(r).value, method = 'LSODA', t_eval = times, atol=1e-4, rtol=1e-6)"
   ]
  },
  {
   "cell_type": "code",
   "execution_count": 27,
   "metadata": {},
   "outputs": [
    {
     "ename": "ZeroDivisionError",
     "evalue": "integer division or modulo by zero",
     "output_type": "error",
     "traceback": [
      "\u001b[1;31m---------------------------------------------------------------------------\u001b[0m",
      "\u001b[1;31mZeroDivisionError\u001b[0m                         Traceback (most recent call last)",
      "\u001b[1;32m~\\AppData\\Local\\Temp/ipykernel_15116/2132657572.py\u001b[0m in \u001b[0;36m<module>\u001b[1;34m\u001b[0m\n\u001b[0;32m      2\u001b[0m \u001b[1;33m\u001b[0m\u001b[0m\n\u001b[0;32m      3\u001b[0m \u001b[1;32mfor\u001b[0m \u001b[0mi\u001b[0m \u001b[1;32min\u001b[0m \u001b[1;33m[\u001b[0m\u001b[1;36m1e1\u001b[0m\u001b[1;33m,\u001b[0m \u001b[1;36m1e2\u001b[0m\u001b[1;33m,\u001b[0m \u001b[1;36m1e3\u001b[0m\u001b[1;33m,\u001b[0m \u001b[1;36m1e4\u001b[0m\u001b[1;33m]\u001b[0m\u001b[1;33m:\u001b[0m\u001b[1;33m\u001b[0m\u001b[1;33m\u001b[0m\u001b[0m\n\u001b[1;32m----> 4\u001b[1;33m     \u001b[0maxs\u001b[0m\u001b[1;33m.\u001b[0m\u001b[0mloglog\u001b[0m\u001b[1;33m(\u001b[0m\u001b[0mr_array\u001b[0m\u001b[1;33m,\u001b[0m \u001b[0msol\u001b[0m\u001b[1;33m.\u001b[0m\u001b[0my\u001b[0m\u001b[1;33m[\u001b[0m\u001b[1;33m:\u001b[0m\u001b[1;33m,\u001b[0m \u001b[0msol\u001b[0m\u001b[1;33m.\u001b[0m\u001b[0mt\u001b[0m \u001b[1;33m==\u001b[0m \u001b[0mi\u001b[0m\u001b[1;33m]\u001b[0m\u001b[1;33m,\u001b[0m \u001b[0mlabel\u001b[0m \u001b[1;33m=\u001b[0m \u001b[1;34mf'{i:1.0f} kyr'\u001b[0m\u001b[1;33m)\u001b[0m\u001b[1;33m\u001b[0m\u001b[1;33m\u001b[0m\u001b[0m\n\u001b[0m\u001b[0;32m      5\u001b[0m \u001b[1;33m\u001b[0m\u001b[0m\n\u001b[0;32m      6\u001b[0m \u001b[1;33m\u001b[0m\u001b[0m\n",
      "\u001b[1;32m~\\anaconda3\\lib\\site-packages\\matplotlib\\axes\\_axes.py\u001b[0m in \u001b[0;36mloglog\u001b[1;34m(self, *args, **kwargs)\u001b[0m\n\u001b[0;32m   1729\u001b[0m                        'basey', 'subsy', 'nonposy']}\n\u001b[0;32m   1730\u001b[0m         \u001b[0mself\u001b[0m\u001b[1;33m.\u001b[0m\u001b[0mset_yscale\u001b[0m\u001b[1;33m(\u001b[0m\u001b[1;34m'log'\u001b[0m\u001b[1;33m,\u001b[0m \u001b[1;33m**\u001b[0m\u001b[0mdy\u001b[0m\u001b[1;33m)\u001b[0m\u001b[1;33m\u001b[0m\u001b[1;33m\u001b[0m\u001b[0m\n\u001b[1;32m-> 1731\u001b[1;33m         return self.plot(\n\u001b[0m\u001b[0;32m   1732\u001b[0m             *args, **{k: v for k, v in kwargs.items() if k not in {*dx, *dy}})\n\u001b[0;32m   1733\u001b[0m \u001b[1;33m\u001b[0m\u001b[0m\n",
      "\u001b[1;32m~\\anaconda3\\lib\\site-packages\\matplotlib\\axes\\_axes.py\u001b[0m in \u001b[0;36mplot\u001b[1;34m(self, scalex, scaley, data, *args, **kwargs)\u001b[0m\n\u001b[0;32m   1603\u001b[0m         \"\"\"\n\u001b[0;32m   1604\u001b[0m         \u001b[0mkwargs\u001b[0m \u001b[1;33m=\u001b[0m \u001b[0mcbook\u001b[0m\u001b[1;33m.\u001b[0m\u001b[0mnormalize_kwargs\u001b[0m\u001b[1;33m(\u001b[0m\u001b[0mkwargs\u001b[0m\u001b[1;33m,\u001b[0m \u001b[0mmlines\u001b[0m\u001b[1;33m.\u001b[0m\u001b[0mLine2D\u001b[0m\u001b[1;33m)\u001b[0m\u001b[1;33m\u001b[0m\u001b[1;33m\u001b[0m\u001b[0m\n\u001b[1;32m-> 1605\u001b[1;33m         \u001b[0mlines\u001b[0m \u001b[1;33m=\u001b[0m \u001b[1;33m[\u001b[0m\u001b[1;33m*\u001b[0m\u001b[0mself\u001b[0m\u001b[1;33m.\u001b[0m\u001b[0m_get_lines\u001b[0m\u001b[1;33m(\u001b[0m\u001b[1;33m*\u001b[0m\u001b[0margs\u001b[0m\u001b[1;33m,\u001b[0m \u001b[0mdata\u001b[0m\u001b[1;33m=\u001b[0m\u001b[0mdata\u001b[0m\u001b[1;33m,\u001b[0m \u001b[1;33m**\u001b[0m\u001b[0mkwargs\u001b[0m\u001b[1;33m)\u001b[0m\u001b[1;33m]\u001b[0m\u001b[1;33m\u001b[0m\u001b[1;33m\u001b[0m\u001b[0m\n\u001b[0m\u001b[0;32m   1606\u001b[0m         \u001b[1;32mfor\u001b[0m \u001b[0mline\u001b[0m \u001b[1;32min\u001b[0m \u001b[0mlines\u001b[0m\u001b[1;33m:\u001b[0m\u001b[1;33m\u001b[0m\u001b[1;33m\u001b[0m\u001b[0m\n\u001b[0;32m   1607\u001b[0m             \u001b[0mself\u001b[0m\u001b[1;33m.\u001b[0m\u001b[0madd_line\u001b[0m\u001b[1;33m(\u001b[0m\u001b[0mline\u001b[0m\u001b[1;33m)\u001b[0m\u001b[1;33m\u001b[0m\u001b[1;33m\u001b[0m\u001b[0m\n",
      "\u001b[1;32m~\\anaconda3\\lib\\site-packages\\matplotlib\\axes\\_base.py\u001b[0m in \u001b[0;36m__call__\u001b[1;34m(self, data, *args, **kwargs)\u001b[0m\n\u001b[0;32m    313\u001b[0m                 \u001b[0mthis\u001b[0m \u001b[1;33m+=\u001b[0m \u001b[0margs\u001b[0m\u001b[1;33m[\u001b[0m\u001b[1;36m0\u001b[0m\u001b[1;33m]\u001b[0m\u001b[1;33m,\u001b[0m\u001b[1;33m\u001b[0m\u001b[1;33m\u001b[0m\u001b[0m\n\u001b[0;32m    314\u001b[0m                 \u001b[0margs\u001b[0m \u001b[1;33m=\u001b[0m \u001b[0margs\u001b[0m\u001b[1;33m[\u001b[0m\u001b[1;36m1\u001b[0m\u001b[1;33m:\u001b[0m\u001b[1;33m]\u001b[0m\u001b[1;33m\u001b[0m\u001b[1;33m\u001b[0m\u001b[0m\n\u001b[1;32m--> 315\u001b[1;33m             \u001b[1;32myield\u001b[0m \u001b[1;32mfrom\u001b[0m \u001b[0mself\u001b[0m\u001b[1;33m.\u001b[0m\u001b[0m_plot_args\u001b[0m\u001b[1;33m(\u001b[0m\u001b[0mthis\u001b[0m\u001b[1;33m,\u001b[0m \u001b[0mkwargs\u001b[0m\u001b[1;33m)\u001b[0m\u001b[1;33m\u001b[0m\u001b[1;33m\u001b[0m\u001b[0m\n\u001b[0m\u001b[0;32m    316\u001b[0m \u001b[1;33m\u001b[0m\u001b[0m\n\u001b[0;32m    317\u001b[0m     \u001b[1;32mdef\u001b[0m \u001b[0mget_next_color\u001b[0m\u001b[1;33m(\u001b[0m\u001b[0mself\u001b[0m\u001b[1;33m)\u001b[0m\u001b[1;33m:\u001b[0m\u001b[1;33m\u001b[0m\u001b[1;33m\u001b[0m\u001b[0m\n",
      "\u001b[1;32m~\\anaconda3\\lib\\site-packages\\matplotlib\\axes\\_base.py\u001b[0m in \u001b[0;36m_plot_args\u001b[1;34m(self, tup, kwargs, return_kwargs)\u001b[0m\n\u001b[0;32m    537\u001b[0m             \u001b[1;32mreturn\u001b[0m \u001b[0mlist\u001b[0m\u001b[1;33m(\u001b[0m\u001b[0mresult\u001b[0m\u001b[1;33m)\u001b[0m\u001b[1;33m\u001b[0m\u001b[1;33m\u001b[0m\u001b[0m\n\u001b[0;32m    538\u001b[0m         \u001b[1;32melse\u001b[0m\u001b[1;33m:\u001b[0m\u001b[1;33m\u001b[0m\u001b[1;33m\u001b[0m\u001b[0m\n\u001b[1;32m--> 539\u001b[1;33m             \u001b[1;32mreturn\u001b[0m \u001b[1;33m[\u001b[0m\u001b[0ml\u001b[0m\u001b[1;33m[\u001b[0m\u001b[1;36m0\u001b[0m\u001b[1;33m]\u001b[0m \u001b[1;32mfor\u001b[0m \u001b[0ml\u001b[0m \u001b[1;32min\u001b[0m \u001b[0mresult\u001b[0m\u001b[1;33m]\u001b[0m\u001b[1;33m\u001b[0m\u001b[1;33m\u001b[0m\u001b[0m\n\u001b[0m\u001b[0;32m    540\u001b[0m \u001b[1;33m\u001b[0m\u001b[0m\n\u001b[0;32m    541\u001b[0m \u001b[1;33m\u001b[0m\u001b[0m\n",
      "\u001b[1;32m~\\anaconda3\\lib\\site-packages\\matplotlib\\axes\\_base.py\u001b[0m in \u001b[0;36m<listcomp>\u001b[1;34m(.0)\u001b[0m\n\u001b[0;32m    537\u001b[0m             \u001b[1;32mreturn\u001b[0m \u001b[0mlist\u001b[0m\u001b[1;33m(\u001b[0m\u001b[0mresult\u001b[0m\u001b[1;33m)\u001b[0m\u001b[1;33m\u001b[0m\u001b[1;33m\u001b[0m\u001b[0m\n\u001b[0;32m    538\u001b[0m         \u001b[1;32melse\u001b[0m\u001b[1;33m:\u001b[0m\u001b[1;33m\u001b[0m\u001b[1;33m\u001b[0m\u001b[0m\n\u001b[1;32m--> 539\u001b[1;33m             \u001b[1;32mreturn\u001b[0m \u001b[1;33m[\u001b[0m\u001b[0ml\u001b[0m\u001b[1;33m[\u001b[0m\u001b[1;36m0\u001b[0m\u001b[1;33m]\u001b[0m \u001b[1;32mfor\u001b[0m \u001b[0ml\u001b[0m \u001b[1;32min\u001b[0m \u001b[0mresult\u001b[0m\u001b[1;33m]\u001b[0m\u001b[1;33m\u001b[0m\u001b[1;33m\u001b[0m\u001b[0m\n\u001b[0m\u001b[0;32m    540\u001b[0m \u001b[1;33m\u001b[0m\u001b[0m\n\u001b[0;32m    541\u001b[0m \u001b[1;33m\u001b[0m\u001b[0m\n",
      "\u001b[1;32m~\\anaconda3\\lib\\site-packages\\matplotlib\\axes\\_base.py\u001b[0m in \u001b[0;36m<genexpr>\u001b[1;34m(.0)\u001b[0m\n\u001b[0;32m    530\u001b[0m             \u001b[0mlabels\u001b[0m \u001b[1;33m=\u001b[0m \u001b[1;33m[\u001b[0m\u001b[0mlabel\u001b[0m\u001b[1;33m]\u001b[0m \u001b[1;33m*\u001b[0m \u001b[0mn_datasets\u001b[0m\u001b[1;33m\u001b[0m\u001b[1;33m\u001b[0m\u001b[0m\n\u001b[0;32m    531\u001b[0m \u001b[1;33m\u001b[0m\u001b[0m\n\u001b[1;32m--> 532\u001b[1;33m         result = (make_artist(x[:, j % ncx], y[:, j % ncy], kw,\n\u001b[0m\u001b[0;32m    533\u001b[0m                               {**kwargs, 'label': label})\n\u001b[0;32m    534\u001b[0m                   for j, label in enumerate(labels))\n",
      "\u001b[1;31mZeroDivisionError\u001b[0m: integer division or modulo by zero"
     ]
    },
    {
     "data": {
      "image/png": "[encoded data removed]",
      "text/plain": [
       "<Figure size 720x432 with 1 Axes>"
      ]
     },
     "metadata": {
      "needs_background": "light"
     },
     "output_type": "display_data"
    }
   ],
   "source": [
    "fig, axs = plt.subplots(figsize = (10,6))\n",
    "\n",
    "for i in [1e1, 1e2, 1e3, 1e4]:\n",
    "    axs.loglog(r_array, sol.y[:, sol.t == i], label = f'{i:1.0f} kyr')\n",
    "\n",
    "\n",
    "axs.plot(r_array, Σ_initial(r), ls='--', lw=3, c='black', label = 'Initial condition')\n",
    "\n",
    "axs.set(xlabel = 'r [AU]', ylabel = 'Σ(r, t) [$g/cm^2$]', \n",
    "title = 'Surface density\\n$M_{disc}=0.11M_{sun}$', yscale = 'log', xscale = 'log', ylim = (1e-2,1e12), xlim = (0.01, 300))\n",
    "plt.legend(frameon=False, loc='upper right' )\n",
    "\n",
    "axs2 = axs.twinx()\n",
    "\n",
    "axs2.loglog(r_array[:-1], np.diff(r_array), ls = '-', marker = 'o', c = 'grey', label='Δr', ms=1)\n",
    "axs2.legend(loc='lower center', frameon=False, bbox_to_anchor=(0.8,0.01))\n",
    "axs2.set(ylabel='Δr [AU]')"
   ]
  },
  {
   "cell_type": "code",
   "execution_count": null,
   "metadata": {},
   "outputs": [
    {
     "data": {
      "text/plain": [
       "(0.0, 100.0)"
      ]
     },
     "execution_count": 15,
     "metadata": {},
     "output_type": "execute_result"
    },
    {
     "data": {
      "image/png": "[encoded data removed]",
      "text/plain": [
       "<Figure size 432x288 with 1 Axes>"
      ]
     },
     "metadata": {
      "needs_background": "light"
     },
     "output_type": "display_data"
    }
   ],
   "source": [
    "plt.plot(r_array[:-1], np.diff(r_array))\n",
    "plt.xlim(0,100)"
   ]
  },
  {
   "cell_type": "code",
   "execution_count": null,
   "metadata": {},
   "outputs": [],
   "source": []
  }
 ],
 "metadata": {
  "interpreter": {
   "hash": "c72a629dba5ae9edebcad565c17c3988d814021371aabb3db62cb04d2b10dbfe"
  },
  "kernelspec": {
   "display_name": "Python 3.9.7 ('base')",
   "language": "python",
   "name": "python3"
  },
  "language_info": {
   "codemirror_mode": {
    "name": "ipython",
    "version": 3
   },
   "file_extension": ".py",
   "mimetype": "text/x-python",
   "name": "python",
   "nbconvert_exporter": "python",
   "pygments_lexer": "ipython3",
   "version": "3.9.7"
  },
  "orig_nbformat": 4
 },
 "nbformat": 4,
 "nbformat_minor": 2
}
