{
 "cells": [
  {
   "cell_type": "code",
   "execution_count": 5,
   "metadata": {},
   "outputs": [],
   "source": [
    "import numpy as np\n",
    "from matplotlib import pyplot as plt, ticker as mticker\n",
    "import matplotlib as mpl\n",
    "from scipy.sparse import csr_matrix\n",
    "\n",
    "sys.path.append('../Numerical_methods')\n",
    "from DOP45 import DOP45\n",
    "from bachelor_funcs import analytic_green\n",
    "from matrix_calculator import A_matrix\n",
    "\n",
    "# Set som plotting standards:\n",
    "font = {'family' : 'serif',\n",
    "        'weight' : 'normal',\n",
    "        'size'   : 15}\n",
    "mpl.rc('font', **font)"
   ]
  },
  {
   "cell_type": "code",
   "execution_count": 6,
   "metadata": {},
   "outputs": [],
   "source": [
    "N = 4001\n",
    "r_i = 0.01\n",
    "r_f = 2.1\n",
    "r = np.linspace(r_i, r_f, N)\n",
    "Δr = r[1] - r[0]\n",
    "\n",
    "D1 = A_matrix(4, 1, N) / Δr\n",
    "sD1 = csr_matrix(D1)"
   ]
  },
  {
   "cell_type": "code",
   "execution_count": null,
   "metadata": {},
   "outputs": [],
   "source": [
    "def Σ_step(Σ, Δ_t):\n",
    "    return Σ + Δ_t * (3 / r) * (sD1 @ (r**(1/2) * (sD1 @ (Σ * r**(1/2)))))"
   ]
  }
 ],
 "metadata": {
  "interpreter": {
   "hash": "c72a629dba5ae9edebcad565c17c3988d814021371aabb3db62cb04d2b10dbfe"
  },
  "kernelspec": {
   "display_name": "Python 3.9.7 ('base')",
   "language": "python",
   "name": "python3"
  },
  "language_info": {
   "codemirror_mode": {
    "name": "ipython",
    "version": 3
   },
   "file_extension": ".py",
   "mimetype": "text/x-python",
   "name": "python",
   "nbconvert_exporter": "python",
   "pygments_lexer": "ipython3",
   "version": "3.9.7"
  },
  "orig_nbformat": 4
 },
 "nbformat": 4,
 "nbformat_minor": 2
}
