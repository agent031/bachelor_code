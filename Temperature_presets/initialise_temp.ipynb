{
 "cells": [
  {
   "cell_type": "code",
   "execution_count": 3,
   "metadata": {},
   "outputs": [],
   "source": [
    "import matplotlib as mpl\n",
    "import matplotlib.pyplot as plt\n",
    "from astropy.constants import c, k_B, M_sun, G, m_p, sigma_sb, m_p\n",
    "import astropy.units as u\n",
    "from scipy.sparse import csr_matrix\n",
    "from scipy.optimize import fsolve, differential_evolution, minimize\n",
    "import numpy as np\n",
    "import numba\n",
    "import sys\n",
    "\n",
    "sys.path.append('../Numerical_methods')\n",
    "from bachelor_funcs import Σ_initial, find_temp, T_vis_strongDW, T_vis_weakDW, α_φz_func\n",
    "from unchanged_values import r_au, sD1_log, Ω, T_req, color_use\n",
    "\n",
    "# Set som plotting standards:\n",
    "font = {'family' : 'serif',\n",
    "        'weight' : 'normal',\n",
    "        'size'   : 15}\n",
    "mpl.rc('font', **font)"
   ]
  },
  {
   "cell_type": "markdown",
   "metadata": {},
   "source": [
    "#### When the csv-file is already made the code cell is made inactive with \\#"
   ]
  },
  {
   "cell_type": "code",
   "execution_count": 4,
   "metadata": {},
   "outputs": [],
   "source": [
    "#T0_MRI_inactive_strongDW = find_temp(int(2e5), T_req, Σ_initial(r_au), T_vis_strongDW, 0)"
   ]
  },
  {
   "cell_type": "code",
   "execution_count": 5,
   "metadata": {},
   "outputs": [],
   "source": [
    "#np.savetxt(\"T0_MRI_inactive_strongDW.csv\", T0_MRI_inactive_strongDW.value)"
   ]
  },
  {
   "cell_type": "code",
   "execution_count": 6,
   "metadata": {},
   "outputs": [
    {
     "name": "stderr",
     "output_type": "stream",
     "text": [
      "100%|██████████| 200000/200000 [15:22<00:00, 216.84it/s]\n"
     ]
    }
   ],
   "source": [
    "#T0_MRI_inactive_weakDW_Σtorque = find_temp(int(2e5), T_req, Σ_initial(r_au), T_vis_weakDW, α_φz_func(Σ_initial(r_au)))"
   ]
  },
  {
   "cell_type": "code",
   "execution_count": 8,
   "metadata": {},
   "outputs": [],
   "source": [
    "#np.savetxt(\"T0_MRI_inactive_weakDW_Σtorque.csv\", T0_MRI_inactive_weakDW_Σtorque.value)"
   ]
  },
  {
   "cell_type": "code",
   "execution_count": null,
   "metadata": {},
   "outputs": [],
   "source": []
  }
 ],
 "metadata": {
  "interpreter": {
   "hash": "c72a629dba5ae9edebcad565c17c3988d814021371aabb3db62cb04d2b10dbfe"
  },
  "kernelspec": {
   "display_name": "Python 3.9.7 ('base')",
   "language": "python",
   "name": "python3"
  },
  "language_info": {
   "codemirror_mode": {
    "name": "ipython",
    "version": 3
   },
   "file_extension": ".py",
   "mimetype": "text/x-python",
   "name": "python",
   "nbconvert_exporter": "python",
   "pygments_lexer": "ipython3",
   "version": "3.9.7"
  },
  "orig_nbformat": 4
 },
 "nbformat": 4,
 "nbformat_minor": 2
}
