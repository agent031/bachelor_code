{
 "cells": [
  {
   "cell_type": "code",
   "execution_count": 49,
   "metadata": {},
   "outputs": [],
   "source": [
    "import matplotlib as mpl\n",
    "import matplotlib.pyplot as plt\n",
    "from astropy.constants import c, k_B, M_sun, G, m_p, sigma_sb, m_p\n",
    "import astropy.units as u\n",
    "from scipy.integrate import solve_ivp\n",
    "import numpy as np\n",
    "import numba\n",
    "import sys\n",
    "\n",
    "sys.path.append('../Numerical_methods')\n",
    "from matrix_calculator import A_matrix\n",
    "from scheme_calculator import forward_backward\n",
    "from bachelor_funcs import Σ_initial, r_array, get_1_dev_irr\n",
    "\n",
    "# Set som plotting standards:\n",
    "font = {'family' : 'serif',\n",
    "        'weight' : 'normal',\n",
    "        'size'   : 12}\n",
    "mpl.rc('font', **font)"
   ]
  },
  {
   "cell_type": "markdown",
   "metadata": {},
   "source": [
    "### Equation 10 from Suzuki\n",
    "\n",
    "$$  \\frac{\\partial\\Sigma}{\\partial t} - \\frac{1}{r}\\frac{\\partial}{\\partial r}\\left[\n",
    "    \\frac{2}{r\\Omega}\\left\\{\n",
    "    \\frac{\\partial}{\\partial r}\\left(\n",
    "    r^2\\Sigma\\alpha_{r\\phi}c_s^2\n",
    "    \\right)\n",
    "    + r^2\\alpha_{\\phi z}(\\rho c_s^2)_{\\textrm{mid}}\n",
    "    \\right\\}\\right]\n",
    "    + C_{\\textrm{w}}(\\rho c_s)_{\\textrm{mid}}\n",
    "    \\;=\\;0$$\n",
    "\n",
    "$$\n",
    "\\Omega\\approx\\Omega_K=\\sqrt{\\frac{GM_*}{r^3}}\n",
    "$$    \n",
    "\n",
    "$$\n",
    "c_s^2=\\frac{k_BT}{\\mu m_H}\n",
    "$$\n",
    "\n",
    "#### Neglecting disc wind and torque:\n",
    "$$  \\frac{\\partial\\Sigma}{\\partial t} - \\frac{1}{r}\\frac{\\partial}{\\partial r}\\left[\n",
    "    \\frac{2}{r\\Omega}\\left\\{\n",
    "    \\frac{\\partial}{\\partial r}\\left(\n",
    "    r^2\\Sigma\\alpha_{r\\phi}c_s^2\n",
    "    \\right)\n",
    "    \\right\\}\\right]\n",
    "    \n",
    "    \\;=\\;0$$\n",
    "\n",
    "#### From B.10:\n",
    "$$\\sigma_\\textrm{SB}T^4=\\frac{3}{4}\\Omega\\Sigma\\bar{\\alpha_{r\\phi}}c_s^2$$\n",
    "\n",
    "$$\\Rightarrow \\quad c_s^6\\;=\\;\\frac{1}{\\sigma_\\textrm{SB}}\n",
    "\\left(\\frac{\\mu m_{H}}{K_B}\\right)^{-4}\n",
    "\\frac{3}{4}\\Omega\\Sigma \\bar{\\alpha_{r\\phi}}\n",
    "$$"
   ]
  },
  {
   "cell_type": "code",
   "execution_count": 7,
   "metadata": {},
   "outputs": [],
   "source": [
    "μ = 2.34    #(Hayashi 1981)"
   ]
  },
  {
   "cell_type": "code",
   "execution_count": 8,
   "metadata": {},
   "outputs": [],
   "source": [
    "def Omega_kep(r):\n",
    "    return np.sqrt((G * M_sun) / r**3)\n",
    "\n",
    "\n",
    "def c_s(Ω,  Σ, α_rφ = 8e-3):\n",
    "    return ((sigma_sb**(-1) * (μ * m_p / k_B)**(-4) * 3/4 * Ω * Σ * α_rφ)**(1/6)).to('m/s')"
   ]
  },
  {
   "cell_type": "code",
   "execution_count": 9,
   "metadata": {},
   "outputs": [
    {
     "data": {
      "text/latex": [
       "$9063.5497 \\; \\mathrm{\\frac{m}{s}}$"
      ],
      "text/plain": [
       "<Quantity 9063.54972517 m / s>"
      ]
     },
     "execution_count": 9,
     "metadata": {},
     "output_type": "execute_result"
    }
   ],
   "source": [
    "r = r_array * u.au\n",
    "c_s(Omega_kep(r), Σ_initial(r))[0]"
   ]
  },
  {
   "cell_type": "markdown",
   "metadata": {},
   "source": [
    "### Imposing the boundary condition $\\frac{\\partial}{\\partial r}(\\Sigma r^{3/2})=0$\n",
    "\n",
    "$$\\frac{\\partial}{\\partial r}(\\Sigma r^{3/2})=0$$\n",
    "$$\\Rightarrow\\frac{\\partial}{\\partial r}(\\Sigma)\\cdot r^{3/2}\\;+\\;\\frac{3}{2}\\Sigma r^{1/2}=0$$\n",
    "$$\\Sigma r^{2}=-\\frac{2}{3}\\;r^{3}\\;\\frac{\\partial}{\\partial r}\\Sigma$$\n"
   ]
  },
  {
   "cell_type": "code",
   "execution_count": 85,
   "metadata": {},
   "outputs": [],
   "source": [
    "α_rφ = 8e-3\n",
    "\n",
    "\n",
    "def one_alpha_diff(Σ):\n",
    "    boundary = -2/3 * r**(3) * get_1_dev_irr(Σ)\n",
    "    \n",
    "    inner_1 = Σ * r**(2)\n",
    "    #inner_1[0] = boundary[0]\n",
    "    #inner_1[-1] = boundary[-1]\n",
    "\n",
    "    inner_2 = α_rφ * c_s(Omega_kep(r), Σ)**2\n",
    "\n",
    "    inner_dev = get_1_dev_irr(inner_1 * inner_2)\n",
    "    \n",
    "    outer_dev = get_1_dev_irr(2 / (r *Omega_kep(r)) * inner_dev)\n",
    "\n",
    "    #outer_dev[0] = 0\n",
    "    #outer_dev[-1] = 0\n",
    "\n",
    "    return ((r**(-1) * outer_dev * u.au**(-2)).to('mg/(yr * cm^2)'))"
   ]
  },
  {
   "cell_type": "code",
   "execution_count": 93,
   "metadata": {},
   "outputs": [
    {
     "ename": "AttributeError",
     "evalue": "'float' object has no attribute 'unit'",
     "output_type": "error",
     "traceback": [
      "\u001b[1;31m---------------------------------------------------------------------------\u001b[0m",
      "\u001b[1;31mAttributeError\u001b[0m                            Traceback (most recent call last)",
      "\u001b[1;32m~\\AppData\\Local\\Temp/ipykernel_12452/4109192504.py\u001b[0m in \u001b[0;36m<module>\u001b[1;34m\u001b[0m\n\u001b[0;32m      1\u001b[0m \u001b[0mplt\u001b[0m\u001b[1;33m.\u001b[0m\u001b[0mloglog\u001b[0m\u001b[1;33m(\u001b[0m\u001b[0mr_array\u001b[0m\u001b[1;33m,\u001b[0m \u001b[0mone_alpha_diff\u001b[0m\u001b[1;33m(\u001b[0m\u001b[0mΣ_initial\u001b[0m\u001b[1;33m(\u001b[0m\u001b[0mr\u001b[0m\u001b[1;33m)\u001b[0m\u001b[1;33m)\u001b[0m\u001b[1;33m)\u001b[0m\u001b[1;33m\u001b[0m\u001b[1;33m\u001b[0m\u001b[0m\n\u001b[1;32m----> 2\u001b[1;33m \u001b[1;33m(\u001b[0m\u001b[0mfloat\u001b[0m\u001b[1;33m(\u001b[0m\u001b[1;36m1\u001b[0m\u001b[1;33m)\u001b[0m\u001b[1;33m)\u001b[0m\u001b[1;33m.\u001b[0m\u001b[0munit\u001b[0m\u001b[1;33m\u001b[0m\u001b[1;33m\u001b[0m\u001b[0m\n\u001b[0m",
      "\u001b[1;31mAttributeError\u001b[0m: 'float' object has no attribute 'unit'"
     ]
    },
    {
     "data": {
      "image/png": "[encoded data removed]",
      "text/plain": [
       "<Figure size 432x288 with 1 Axes>"
      ]
     },
     "metadata": {
      "needs_background": "light"
     },
     "output_type": "display_data"
    }
   ],
   "source": [
    "plt.loglog(r_array, one_alpha_diff(Σ_initial(r)))\n",
    "(float(1)).unit\n"
   ]
  },
  {
   "cell_type": "code",
   "execution_count": 108,
   "metadata": {},
   "outputs": [],
   "source": [
    "α_rφ = 8e-3\n",
    "def one_alpha_diff(t, Σ):\n",
    "    if isinstance(Σ, np.ndarray):\n",
    "        Σ = Σ *  u.g * u.cm**-2\n",
    "    boundary = -2/3 * r**(3) * get_1_dev_irr(Σ)\n",
    "    \n",
    "    inner_1 = Σ * r**(2)\n",
    "    #inner_1[0] = boundary[0]\n",
    "    #inner_1[-1] = boundary[-1]\n",
    "\n",
    "    inner_2 = α_rφ * c_s(Omega_kep(r), Σ)**2\n",
    "\n",
    "    inner_dev = get_1_dev_irr(inner_1 * inner_2)\n",
    "    \n",
    "    outer_dev = get_1_dev_irr(2 / (r *Omega_kep(r)) * inner_dev)\n",
    "\n",
    "    #outer_dev[0] = 0\n",
    "    #outer_dev[-1] = 0\n",
    "\n",
    "    return ((r**(-1) * outer_dev * u.au**(-2)).to('mg/(yr * cm^2)'))"
   ]
  },
  {
   "cell_type": "markdown",
   "metadata": {},
   "source": [
    "#### \"one_alpha_diff\" return in terms of:\n",
    "$$\\left[\\frac{g}{cm^2}\\frac{1}{kyr}\\right]$$"
   ]
  },
  {
   "cell_type": "code",
   "execution_count": 109,
   "metadata": {},
   "outputs": [
    {
     "name": "stderr",
     "output_type": "stream",
     "text": [
      "C:\\Users\\chris\\anaconda3\\lib\\site-packages\\astropy\\units\\quantity.py:486: RuntimeWarning: invalid value encountered in power\n",
      "  result = super().__array_ufunc__(function, method, *arrays, **kwargs)\n",
      "C:\\Users\\chris\\anaconda3\\lib\\site-packages\\scipy\\integrate\\_ode.py:1350: UserWarning: lsoda: Excess accuracy requested (tolerances too small).\n",
      "  warnings.warn('{:s}: {:s}'.format(self.__class__.__name__,\n"
     ]
    }
   ],
   "source": [
    "times = np.arange(1000)\n",
    "sol = solve_ivp(one_alpha_diff, [times[0], times[-1]], y0 = Σ_initial(r), t_eval = times, method = 'LSODA')"
   ]
  },
  {
   "cell_type": "code",
   "execution_count": 113,
   "metadata": {},
   "outputs": [
    {
     "data": {
      "text/plain": [
       "(205, 1)"
      ]
     },
     "execution_count": 113,
     "metadata": {},
     "output_type": "execute_result"
    }
   ],
   "source": [
    "np.shape(sol.y)"
   ]
  },
  {
   "cell_type": "code",
   "execution_count": 106,
   "metadata": {},
   "outputs": [
    {
     "data": {
      "text/plain": [
       "True"
      ]
     },
     "execution_count": 106,
     "metadata": {},
     "output_type": "execute_result"
    }
   ],
   "source": [
    "isinstance(r_array, np.ndarray)"
   ]
  },
  {
   "cell_type": "code",
   "execution_count": null,
   "metadata": {},
   "outputs": [],
   "source": []
  }
 ],
 "metadata": {
  "interpreter": {
   "hash": "c72a629dba5ae9edebcad565c17c3988d814021371aabb3db62cb04d2b10dbfe"
  },
  "kernelspec": {
   "display_name": "Python 3.9.7 ('base')",
   "language": "python",
   "name": "python3"
  },
  "language_info": {
   "codemirror_mode": {
    "name": "ipython",
    "version": 3
   },
   "file_extension": ".py",
   "mimetype": "text/x-python",
   "name": "python",
   "nbconvert_exporter": "python",
   "pygments_lexer": "ipython3",
   "version": "3.9.7"
  },
  "orig_nbformat": 4
 },
 "nbformat": 4,
 "nbformat_minor": 2
}
