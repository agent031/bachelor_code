{
 "cells": [
  {
   "cell_type": "code",
   "execution_count": 46,
   "metadata": {},
   "outputs": [],
   "source": [
    "import matplotlib as mpl\n",
    "import matplotlib.pyplot as plt\n",
    "from astropy.constants import c, k_B, M_sun, G, m_p, sigma_sb, m_p\n",
    "import astropy.units as u\n",
    "from scipy.integrate import solve_ivp\n",
    "from scipy.integrate import LSODA\n",
    "import numpy as np\n",
    "import numba\n",
    "import sys\n",
    "\n",
    "sys.path.append('../Numerical_methods')\n",
    "from matrix_calculator import A_matrix\n",
    "from scheme_calculator import forward_backward\n",
    "from bachelor_funcs import Σ_initial, r_array, get_1_dev_irr\n",
    "\n",
    "# Set som plotting standards:\n",
    "font = {'family' : 'serif',\n",
    "        'weight' : 'normal',\n",
    "        'size'   : 12}\n",
    "mpl.rc('font', **font)"
   ]
  },
  {
   "cell_type": "markdown",
   "metadata": {},
   "source": [
    "### Equation 10 from Suzuki\n",
    "\n",
    "$$  \\frac{\\partial\\Sigma}{\\partial t} - \\frac{1}{r}\\frac{\\partial}{\\partial r}\\left[\n",
    "    \\frac{2}{r\\Omega}\\left\\{\n",
    "    \\frac{\\partial}{\\partial r}\\left(\n",
    "    r^2\\Sigma\\alpha_{r\\phi}c_s^2\n",
    "    \\right)\n",
    "    + r^2\\alpha_{\\phi z}(\\rho c_s^2)_{\\textrm{mid}}\n",
    "    \\right\\}\\right]\n",
    "    + C_{\\textrm{w}}(\\rho c_s)_{\\textrm{mid}}\n",
    "    \\;=\\;0$$\n",
    "\n",
    "$$\n",
    "\\Omega\\approx\\Omega_K=\\sqrt{\\frac{GM_*}{r^3}}\n",
    "$$    \n",
    "\n",
    "$$\n",
    "c_s^2=\\frac{k_BT}{\\mu m_H}\n",
    "$$\n",
    "\n",
    "#### Neglecting disc wind and torque:\n",
    "$$  \\frac{\\partial\\Sigma}{\\partial t} - \\frac{1}{r}\\frac{\\partial}{\\partial r}\\left[\n",
    "    \\frac{2}{r\\Omega}\\left\\{\n",
    "    \\frac{\\partial}{\\partial r}\\left(\n",
    "    r^2\\Sigma\\alpha_{r\\phi}c_s^2\n",
    "    \\right)\n",
    "    \\right\\}\\right]\n",
    "    \n",
    "    \\;=\\;0$$\n",
    "\n",
    "#### From B.10:\n",
    "$$\\sigma_\\textrm{SB}T^4=\\frac{3}{4}\\Omega\\Sigma\\bar{\\alpha_{r\\phi}}c_s^2$$\n",
    "\n",
    "$$\\Rightarrow \\quad c_s^6\\;=\\;\\frac{1}{\\sigma_\\textrm{SB}}\n",
    "\\left(\\frac{\\mu m_{H}}{K_B}\\right)^{-4}\n",
    "\\frac{3}{4}\\Omega\\Sigma \\bar{\\alpha_{r\\phi}}\n",
    "$$"
   ]
  },
  {
   "cell_type": "code",
   "execution_count": 47,
   "metadata": {},
   "outputs": [],
   "source": [
    "μ = 2.34    #(Hayashi 1981)"
   ]
  },
  {
   "cell_type": "code",
   "execution_count": 48,
   "metadata": {},
   "outputs": [],
   "source": [
    "def Omega_kep(r):\n",
    "    return np.sqrt((G * M_sun) / r**3)\n",
    "\n",
    "\n",
    "def c_s(Ω,  Σ, α_rφ = 8e-3):\n",
    "    return ((sigma_sb**(-1) * (μ * m_p / k_B)**(-4) * 3/4 * Ω * Σ * α_rφ)**(1/6)).to('m/s')"
   ]
  },
  {
   "cell_type": "code",
   "execution_count": 49,
   "metadata": {},
   "outputs": [
    {
     "data": {
      "text/latex": [
       "$9063.5497 \\; \\mathrm{\\frac{m}{s}}$"
      ],
      "text/plain": [
       "<Quantity 9063.54972517 m / s>"
      ]
     },
     "execution_count": 49,
     "metadata": {},
     "output_type": "execute_result"
    }
   ],
   "source": [
    "r = r_array * u.au\n",
    "c_s(Omega_kep(r), Σ_initial(r))[0]"
   ]
  },
  {
   "cell_type": "markdown",
   "metadata": {},
   "source": [
    "### Imposing the boundary condition $\\frac{\\partial}{\\partial r}(\\Sigma r^{3/2})=0$\n",
    "\n",
    "$$\\frac{\\partial}{\\partial r}(\\Sigma r^{3/2})=0$$\n",
    "$$\\Rightarrow\\frac{\\partial}{\\partial r}(\\Sigma)\\cdot r^{3/2}\\;+\\;\\frac{3}{2}\\Sigma r^{1/2}=0$$\n",
    "$$\\Sigma r^{2}=-\\frac{2}{3}\\;r^{3}\\;\\frac{\\partial}{\\partial r}\\Sigma$$\n"
   ]
  },
  {
   "cell_type": "code",
   "execution_count": 50,
   "metadata": {},
   "outputs": [],
   "source": [
    "α_rφ = 8e-3\n",
    "\n",
    "\n",
    "def one_alpha(Σ):\n",
    "    boundary = -2/3 * r**(3) * get_1_dev_irr(Σ)\n",
    "    \n",
    "    inner_1 = Σ * r**(2)\n",
    "    #inner_1[0] = boundary[0]\n",
    "    #inner_1[-1] = boundary[-1]\n",
    "\n",
    "    inner_2 = α_rφ * c_s(Omega_kep(r), Σ)**2\n",
    "\n",
    "    inner_dev = get_1_dev_irr(inner_1 * inner_2)\n",
    "    \n",
    "    outer_dev = get_1_dev_irr(2 / (r *Omega_kep(r)) * inner_dev)\n",
    "\n",
    "    #outer_dev[0] = 0\n",
    "    #outer_dev[-1] = 0\n",
    "\n",
    "    return ((r**(-1) * outer_dev * u.au**(-2)).to('mg/(yr * cm^2)'))"
   ]
  },
  {
   "cell_type": "code",
   "execution_count": 51,
   "metadata": {},
   "outputs": [
    {
     "data": {
      "text/latex": [
       "$[1.7876093 \\times 10^{8},~83506139,~27150983,~\\dots,~5.9271129 \\times 10^{-197},~3.6503249 \\times 10^{-197},~1.7617769 \\times 10^{-197}] \\; \\mathrm{\\frac{mg}{yr\\,cm^{2}}}$"
      ],
      "text/plain": [
       "<Quantity [1.78760930e+008, 8.35061392e+007, 2.71509826e+007, ...,\n",
       "           5.92711292e-197, 3.65032494e-197, 1.76177695e-197] mg / (cm2 yr)>"
      ]
     },
     "execution_count": 51,
     "metadata": {},
     "output_type": "execute_result"
    }
   ],
   "source": [
    "one_alpha(Σ_initial(r))"
   ]
  },
  {
   "cell_type": "code",
   "execution_count": 52,
   "metadata": {},
   "outputs": [],
   "source": [
    "α_rφ = 8e-3\n",
    "def one_alpha_diff(t, Σ):\n",
    "    Σ = Σ *  u.g * u.cm**-2\n",
    "    #boundary = -2/3 * r**(3) * get_1_dev_irr(Σ)\n",
    "    \n",
    "    inner_1 = Σ * r**(2)\n",
    "    #inner_1[0] = boundary[0]\n",
    "    #inner_1[-1] = boundary[-1]\n",
    "\n",
    "    inner_2 = α_rφ * c_s(Omega_kep(r), Σ)**2\n",
    "\n",
    "    inner_dev = get_1_dev_irr(inner_1 * inner_2)\n",
    "    \n",
    "    outer_dev = get_1_dev_irr(2 / (r *Omega_kep(r)) * inner_dev)\n",
    "\n",
    "    #outer_dev[0] = 0\n",
    "    #outer_dev[-1] = 0\n",
    "\n",
    "    return ((r**(-1) * outer_dev * u.au**(-2)).to('mg/(yr * cm^2)'))"
   ]
  },
  {
   "cell_type": "markdown",
   "metadata": {},
   "source": [
    "#### \"one_alpha_diff\" return in terms of:\n",
    "$$\\left[\\frac{g}{cm^2}\\frac{1}{kyr}\\right]$$"
   ]
  },
  {
   "cell_type": "code",
   "execution_count": 53,
   "metadata": {},
   "outputs": [
    {
     "name": "stderr",
     "output_type": "stream",
     "text": [
      "C:\\Users\\chris\\anaconda3\\lib\\site-packages\\astropy\\units\\quantity.py:486: RuntimeWarning: invalid value encountered in power\n",
      "  result = super().__array_ufunc__(function, method, *arrays, **kwargs)\n",
      "C:\\Users\\chris\\anaconda3\\lib\\site-packages\\scipy\\integrate\\_ode.py:1350: UserWarning: lsoda: Excess accuracy requested (tolerances too small).\n",
      "  warnings.warn('{:s}: {:s}'.format(self.__class__.__name__,\n"
     ]
    },
    {
     "data": {
      "text/plain": [
       "  message: 'Unexpected istate in LSODA.'\n",
       "     nfev: 40714\n",
       "     njev: 20\n",
       "      nlu: 20\n",
       "      sol: None\n",
       "   status: -1\n",
       "  success: False\n",
       "        t: array([0. , 0.1, 0.2, 0.3, 0.4, 0.5, 0.6, 0.7, 0.8, 0.9, 1. , 1.1, 1.2,\n",
       "       1.3, 1.4, 1.5, 1.6, 1.7, 1.8, 1.9, 2. , 2.1, 2.2, 2.3, 2.4, 2.5,\n",
       "       2.6, 2.7, 2.8, 2.9, 3. , 3.1, 3.2, 3.3, 3.4, 3.5, 3.6, 3.7, 3.8])\n",
       " t_events: None\n",
       "        y: array([[1.69943343e+007, 1.77560841e+007, 1.64166180e+007, ...,\n",
       "        6.01346733e+006, 3.45570235e+006, 3.21900122e+005],\n",
       "       [6.00640204e+006, 7.41922264e+006, 7.04740006e+006, ...,\n",
       "        3.09242532e+006, 2.20796919e+006, 1.19523115e+006],\n",
       "       [2.69165032e+006, 3.64680020e+006, 3.58128351e+006, ...,\n",
       "        1.81688043e+006, 1.43857590e+006, 9.92670772e+005],\n",
       "       ...,\n",
       "       [4.74636111e-147, 4.74636111e-147, 4.74636111e-147, ...,\n",
       "        4.74636111e-147, 4.74636111e-147, 4.74636111e-147],\n",
       "       [3.39663825e-147, 3.39663825e-147, 3.39663825e-147, ...,\n",
       "        3.39663825e-147, 3.39663825e-147, 3.39663825e-147],\n",
       "       [2.43033296e-147, 2.43033296e-147, 2.43033296e-147, ...,\n",
       "        2.43033296e-147, 2.43033296e-147, 2.43033296e-147]])\n",
       " y_events: None"
      ]
     },
     "execution_count": 53,
     "metadata": {},
     "output_type": "execute_result"
    }
   ],
   "source": [
    "# Default values for tolerance:\n",
    "# rtol: 1e-3 \n",
    "# atol: 1e-6 \n",
    "\n",
    "times = np.arange(0, 100, 0.1)\n",
    "\n",
    "sol = solve_ivp(one_alpha_diff, [times[0], times[-1]], y0 = Σ_initial(r).value, method = 'LSODA', t_eval = times, atol=1e-4, rtol=1e-6)\n",
    "sol"
   ]
  },
  {
   "cell_type": "code",
   "execution_count": 54,
   "metadata": {},
   "outputs": [
    {
     "data": {
      "text/plain": [
       "(2003, 39)"
      ]
     },
     "execution_count": 54,
     "metadata": {},
     "output_type": "execute_result"
    }
   ],
   "source": [
    "np.shape(sol.y)"
   ]
  },
  {
   "cell_type": "code",
   "execution_count": 55,
   "metadata": {},
   "outputs": [
    {
     "data": {
      "text/plain": [
       "[Text(0.5, 0, 'r [AU]'),\n",
       " Text(0, 0.5, 'Σ(r, t=0) [$g/cm^2$]'),\n",
       " Text(0.5, 1.0, 'Initial condition for surface density\\n$M_{disc}=0.11M_{sun}$'),\n",
       " None,\n",
       " None,\n",
       " (0.01, 10000000.0),\n",
       " (0.01, 300)]"
      ]
     },
     "execution_count": 55,
     "metadata": {},
     "output_type": "execute_result"
    },
    {
     "data": {
      "image/png": "[encoded data removed]",
      "text/plain": [
       "<Figure size 720x432 with 1 Axes>"
      ]
     },
     "metadata": {
      "needs_background": "light"
     },
     "output_type": "display_data"
    }
   ],
   "source": [
    "fig, axs = plt.subplots(figsize = (10,6))\n",
    "for Σ in range(len(sol.y[0,:])):\n",
    "    axs.loglog(r, sol.y[:,Σ])\n",
    "\n",
    "axs.set(xlabel = 'r [AU]', ylabel = 'Σ(r, t=0) [$g/cm^2$]', \n",
    "title = 'Initial condition for surface density\\n$M_{disc}=0.11M_{sun}$', yscale = 'log', xscale = 'log', ylim = (1e-2,1e7), xlim = (0.01, 300))"
   ]
  },
  {
   "cell_type": "code",
   "execution_count": 56,
   "metadata": {},
   "outputs": [
    {
     "data": {
      "text/plain": [
       "0"
      ]
     },
     "execution_count": 56,
     "metadata": {},
     "output_type": "execute_result"
    }
   ],
   "source": [
    "sol_lsoda = LSODA(one_alpha_diff, t0 = 0, y0 = Σ_initial(r).value, t_bound = times[-1], rtol = 0.3 , atol = 1000)\n",
    "sol_lsoda.t"
   ]
  },
  {
   "cell_type": "code",
   "execution_count": 57,
   "metadata": {},
   "outputs": [
    {
     "data": {
      "text/plain": [
       "[<matplotlib.lines.Line2D at 0x21a135b4d60>]"
      ]
     },
     "execution_count": 57,
     "metadata": {},
     "output_type": "execute_result"
    },
    {
     "data": {
      "image/png": "[encoded data removed]",
      "text/plain": [
       "<Figure size 576x288 with 1 Axes>"
      ]
     },
     "metadata": {
      "needs_background": "light"
     },
     "output_type": "display_data"
    }
   ],
   "source": [
    "fig, axs = plt.subplots(figsize = (8,4))\n",
    "axs.set(xlabel = 'r [AU]', ylabel = 'Σ(r, t=0) [$g/cm^2$]', \n",
    "title = 'Initial condition for surface density\\n$M_{disc}=0.11M_{sun}$', yscale = 'log', xscale = 'log', ylim = (1e-2,1e7), xlim = (0.01, 300))\n",
    "\n",
    "axs.plot(r, Σ_initial(r), label = 'Initial condition for Σ')\n",
    "axs.loglog(r_array, sol_lsoda.y)"
   ]
  },
  {
   "cell_type": "code",
   "execution_count": null,
   "metadata": {},
   "outputs": [],
   "source": []
  }
 ],
 "metadata": {
  "interpreter": {
   "hash": "c72a629dba5ae9edebcad565c17c3988d814021371aabb3db62cb04d2b10dbfe"
  },
  "kernelspec": {
   "display_name": "Python 3.9.7 ('base')",
   "language": "python",
   "name": "python3"
  },
  "language_info": {
   "codemirror_mode": {
    "name": "ipython",
    "version": 3
   },
   "file_extension": ".py",
   "mimetype": "text/x-python",
   "name": "python",
   "nbconvert_exporter": "python",
   "pygments_lexer": "ipython3",
   "version": "3.9.7"
  },
  "orig_nbformat": 4
 },
 "nbformat": 4,
 "nbformat_minor": 2
}
