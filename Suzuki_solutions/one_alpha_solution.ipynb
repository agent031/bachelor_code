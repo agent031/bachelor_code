{
 "cells": [
  {
   "cell_type": "code",
   "execution_count": 2,
   "metadata": {},
   "outputs": [],
   "source": [
    "import matplotlib as mpl\n",
    "import matplotlib.pyplot as plt\n",
    "import numpy as np\n",
    "import numba\n",
    "import sys\n",
    "\n",
    "sys.path.append('../Numerical_methods')\n",
    "from matrix_calculator import A_matrix\n",
    "from scheme_calculator import forward_backward\n",
    "from bachelor_funcs import get_first_dev\n",
    "\n",
    "# Set som plotting standards:\n",
    "font = {'family' : 'serif',\n",
    "        'weight' : 'normal',\n",
    "        'size'   : 12}\n",
    "mpl.rc('font', **font)"
   ]
  },
  {
   "cell_type": "markdown",
   "metadata": {},
   "source": [
    "### Equation 10 from Suzuki\n",
    "\n",
    "$$  \\frac{\\partial\\Sigma}{\\partial t} - \\frac{1}{r}\\frac{\\partial}{\\partial r}\\left[\n",
    "    \\frac{2}{r\\Omega}\\left\\{\n",
    "    \\frac{\\partial}{\\partial r}\\left(\n",
    "    r^2\\Sigma\\alpha_{r\\phi}c_s^2\n",
    "    \\right)\n",
    "    + r^2\\alpha_{\\phi z}(\\rho c_s^2)_{\\textrm{mid}}\n",
    "    \\right\\}\\right]\n",
    "    + C_{\\textrm{w}}(\\rho c_s)_{\\textrm{mid}}\n",
    "    \\;=\\;0$$\n",
    "\n",
    "$$\n",
    "\\Omega\\approx\\Omega_K=\\sqrt{\\frac{GM_*}{r^3}}\n",
    "$$    \n",
    "\n",
    "$$\n",
    "c_s^2=\\frac{k_BT}{\\mu m_H}\n",
    "$$"
   ]
  },
  {
   "cell_type": "markdown",
   "metadata": {},
   "source": []
  }
 ],
 "metadata": {
  "interpreter": {
   "hash": "c72a629dba5ae9edebcad565c17c3988d814021371aabb3db62cb04d2b10dbfe"
  },
  "kernelspec": {
   "display_name": "Python 3.9.7 ('base')",
   "language": "python",
   "name": "python3"
  },
  "language_info": {
   "codemirror_mode": {
    "name": "ipython",
    "version": 3
   },
   "file_extension": ".py",
   "mimetype": "text/x-python",
   "name": "python",
   "nbconvert_exporter": "python",
   "pygments_lexer": "ipython3",
   "version": "3.9.7"
  },
  "orig_nbformat": 4
 },
 "nbformat": 4,
 "nbformat_minor": 2
}
