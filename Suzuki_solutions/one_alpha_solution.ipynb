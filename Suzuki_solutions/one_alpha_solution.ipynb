{
 "cells": [
  {
   "cell_type": "code",
   "execution_count": 1,
   "metadata": {},
   "outputs": [],
   "source": [
    "import matplotlib as mpl\n",
    "import matplotlib.pyplot as plt\n",
    "from astropy.constants import c, k_B, M_sun, G, m_p, sigma_sb, m_p\n",
    "import astropy.units as u\n",
    "import numpy as np\n",
    "import numba\n",
    "import sys\n",
    "\n",
    "sys.path.append('../Numerical_methods')\n",
    "from matrix_calculator import A_matrix\n",
    "from scheme_calculator import forward_backward\n",
    "from bachelor_funcs import get_1_dev_new, Σ_initial, r_array\n",
    "\n",
    "# Set som plotting standards:\n",
    "font = {'family' : 'serif',\n",
    "        'weight' : 'normal',\n",
    "        'size'   : 12}\n",
    "mpl.rc('font', **font)"
   ]
  },
  {
   "cell_type": "markdown",
   "metadata": {},
   "source": [
    "### Equation 10 from Suzuki\n",
    "\n",
    "$$  \\frac{\\partial\\Sigma}{\\partial t} - \\frac{1}{r}\\frac{\\partial}{\\partial r}\\left[\n",
    "    \\frac{2}{r\\Omega}\\left\\{\n",
    "    \\frac{\\partial}{\\partial r}\\left(\n",
    "    r^2\\Sigma\\alpha_{r\\phi}c_s^2\n",
    "    \\right)\n",
    "    + r^2\\alpha_{\\phi z}(\\rho c_s^2)_{\\textrm{mid}}\n",
    "    \\right\\}\\right]\n",
    "    + C_{\\textrm{w}}(\\rho c_s)_{\\textrm{mid}}\n",
    "    \\;=\\;0$$\n",
    "\n",
    "$$\n",
    "\\Omega\\approx\\Omega_K=\\sqrt{\\frac{GM_*}{r^3}}\n",
    "$$    \n",
    "\n",
    "$$\n",
    "c_s^2=\\frac{k_BT}{\\mu m_H}\n",
    "$$\n",
    "\n",
    "#### Neglecting disc wind and torque:\n",
    "$$  \\frac{\\partial\\Sigma}{\\partial t} - \\frac{1}{r}\\frac{\\partial}{\\partial r}\\left[\n",
    "    \\frac{2}{r\\Omega}\\left\\{\n",
    "    \\frac{\\partial}{\\partial r}\\left(\n",
    "    r^2\\Sigma\\alpha_{r\\phi}c_s^2\n",
    "    \\right)\n",
    "    \\right\\}\\right]\n",
    "    \n",
    "    \\;=\\;0$$\n",
    "\n",
    "#### From B.10:\n",
    "$$\\sigma_\\textrm{SB}T^4=\\frac{3}{4}\\Omega\\Sigma\\bar{\\alpha_{r\\phi}}c_s^2$$\n",
    "\n",
    "$$\\Rightarrow \\quad c_s^6\\;=\\;\\frac{1}{\\sigma_\\textrm{SB}}\n",
    "\\left(\\frac{\\mu m_{H}}{K_B}\\right)^{-4}\n",
    "\\frac{3}{4}\\Omega\\Sigma \\bar{\\alpha_{r\\phi}}\n",
    "$$"
   ]
  },
  {
   "cell_type": "code",
   "execution_count": 10,
   "metadata": {},
   "outputs": [],
   "source": [
    "μ = 2.34    #(Hayashi 1981)"
   ]
  },
  {
   "cell_type": "code",
   "execution_count": 36,
   "metadata": {},
   "outputs": [],
   "source": [
    "def Omega_kep(r):\n",
    "    return np.sqrt((G * M_sun) / r**3)\n",
    "\n",
    "\n",
    "def c_s(Ω,  Σ, α_rφ = 8e-3):\n",
    "    return ((sigma_sb**(-1) * (μ * m_p / k_B)**(-4) * 3/4 * Ω * Σ * α_rφ)**(1/6)).to('m/s')"
   ]
  },
  {
   "cell_type": "code",
   "execution_count": 39,
   "metadata": {},
   "outputs": [
    {
     "data": {
      "text/latex": [
       "$9063.5497 \\; \\mathrm{\\frac{m}{s}}$"
      ],
      "text/plain": [
       "<Quantity 9063.54972517 m / s>"
      ]
     },
     "execution_count": 39,
     "metadata": {},
     "output_type": "execute_result"
    }
   ],
   "source": [
    "r = r_array * u.au\n",
    "c_s(Omega_kep(r), Σ_initial(r))[0]"
   ]
  },
  {
   "cell_type": "markdown",
   "metadata": {},
   "source": [
    "### Imposing the boundary condition $\\frac{\\partial}{\\partial r}(\\Sigma r^{3/2})=0$\n",
    "\n",
    "$$\\frac{\\partial}{\\partial r}(\\Sigma r^{3/2})=0$$\n",
    "$$\\Rightarrow\\frac{\\partial}{\\partial r}(\\Sigma)\\cdot r^{3/2}\\;+\\;\\frac{3}{2}\\Sigma r^{1/2}=0$$\n",
    "$$\\Sigma r^{2}=-\\frac{2}{3}\\;r^{3}\\;\\frac{\\partial}{\\partial r}\\Sigma$$\n"
   ]
  },
  {
   "cell_type": "code",
   "execution_count": null,
   "metadata": {},
   "outputs": [],
   "source": [
    "def one_alpha_diff(t, Σ):\n",
    "    boundary = -2/3 * x**(3) * get_first_dev(Σ, Δx)\n",
    "\n",
    "    inner = Σ * x**(1/2)\n",
    "    inner[0] = boundary[0]\n",
    "    inner[-1] = boundary[-1]\n",
    "\n",
    "    inner_dev = get_first_dev(inner, Δx)\n",
    "    \n",
    "    outer_dev = get_first_dev(x**(1/2) * inner_dev, Δx)\n",
    "\n",
    "    #outer_dev[0] = 0\n",
    "    #outer_dev[-1] = 0\n",
    "\n",
    "    return 3/x * outer_dev"
   ]
  }
 ],
 "metadata": {
  "interpreter": {
   "hash": "c72a629dba5ae9edebcad565c17c3988d814021371aabb3db62cb04d2b10dbfe"
  },
  "kernelspec": {
   "display_name": "Python 3.9.7 ('base')",
   "language": "python",
   "name": "python3"
  },
  "language_info": {
   "codemirror_mode": {
    "name": "ipython",
    "version": 3
   },
   "file_extension": ".py",
   "mimetype": "text/x-python",
   "name": "python",
   "nbconvert_exporter": "python",
   "pygments_lexer": "ipython3",
   "version": "3.9.7"
  },
  "orig_nbformat": 4
 },
 "nbformat": 4,
 "nbformat_minor": 2
}
