{
 "cells": [
  {
   "cell_type": "code",
   "execution_count": 1,
   "metadata": {},
   "outputs": [],
   "source": [
    "import matplotlib as mpl\n",
    "import matplotlib.pyplot as plt\n",
    "from astropy.constants import c, k_B, M_sun, G, m_p, sigma_sb, m_p\n",
    "import astropy.units as u\n",
    "from scipy.sparse import csr_matrix\n",
    "import numpy as np\n",
    "import numba\n",
    "import sys\n",
    "\n",
    "sys.path.append('../Numerical_methods')\n",
    "from bachelor_funcs import Σ_initial, c_s2, α_φz_func, opacity, find_temp\n",
    "from unchanged_values import Ω, r_au, T_req\n",
    "\n",
    "# Set som plotting standards:\n",
    "font = {'family' : 'serif',\n",
    "        'weight' : 'normal',\n",
    "        'size'   : 12}\n",
    "mpl.rc('font', **font)"
   ]
  },
  {
   "cell_type": "markdown",
   "metadata": {},
   "source": [
    "### Temperature bith viscous heating and stellar irradiation\n",
    "$$T^4 = T_{vis}^4 + T_{req}^4$$\n",
    "$$T_{req}=T_{1au}\\left(\\frac{r}{1au}\\right)^p$$"
   ]
  },
  {
   "cell_type": "markdown",
   "metadata": {},
   "source": [
    "### Temperature at midplane for MRI-active PPDs\n",
    "$$T_{vis}^4 = \\frac{1}{2\\sigma_{SB}}\\left(\\frac{3}{8}\\tau_R+\\frac{1}{3\\tau_P}\\right)F_{rad}$$\n",
    "$$\\tau_R=\\kappa_R\\Sigma/2$$\n",
    "### $\\kappa_R:$\n",
    "$$\\kappa_R = 4.5(T/150K)^2\\;cm^2g^{-1}\\quad T<150K$$\n",
    "$$\\kappa_R = 4.5\\;cm^2g^{-1}\\quad 150K \\leq T \\leq1500K$$\n",
    "$$\\kappa_R = 0\\;cm^2g^{-1}\\quad 1500K<T$$\n",
    "\n",
    "$$\\tau_P = max(2.4\\tau_R,\\;0.5)$$\n",
    "### $F_{rad}$ for the weak DW case (p. 4 Suzuki)\n",
    "$$F_{rad} = \\epsilon_{rad}\\left[\\frac{3}{2}\\Omega\\Sigmaα_{rφ}c_s^2 + r\\Omegaα_{\\phi z}(\\rho c_s^2)_{mid}\\right],\\quad\\epsilon_{rad}=0.9$$\n",
    "$$\\Sigma \\Omega=\\sqrt{2 \\pi}(\\rho c_s)_{mid}\\quad \\Rightarrow \\quad (\\rho c_s)_{mid}=\\frac{1}{\\sqrt{2 \\pi}}\\Sigma \\Omega\n",
    "\\quad ?\\;\\Rightarrow\\quad (\\rho c_s^2)_{mid} = \\frac{c_s}{\\sqrt{2 \\pi}}\\Sigma \\Omega$$\n",
    "$$\\frac{g}{cm^2}\\frac{1}{s} = \\frac{kg}{m^3}\\frac{m}{s}$$ \n",
    "\n"
   ]
  },
  {
   "cell_type": "code",
   "execution_count": 2,
   "metadata": {},
   "outputs": [],
   "source": [
    "def F_rad_weakDW(T, Σ, α_φz, α_rφ = 8e-10, ε_rad = 0.9):\n",
    "    return ε_rad * (3/2 * Ω * Σ * α_rφ * c_s2(T) + r_au * Ω * α_φz * np.sqrt(c_s2(T)) / np.sqrt(2*np.pi) * Σ * Ω).to(('W/m2'))"
   ]
  },
  {
   "cell_type": "code",
   "execution_count": 3,
   "metadata": {},
   "outputs": [
    {
     "data": {
      "text/latex": [
       "$[1.1371893 \\times 10^{8},~95625802,~80411303,~\\dots,~5.2491848 \\times 10^{-147},~2.5306068 \\times 10^{-153},~6.1829029 \\times 10^{-160}] \\; \\mathrm{\\frac{W}{m^{2}}}$"
      ],
      "text/plain": [
       "<Quantity [1.13718928e+008, 9.56258019e+007, 8.04113032e+007,\n",
       "           6.76174474e+007, 5.68591141e+007, 4.78124539e+007,\n",
       "           4.02051410e+007, 3.38081758e+007, 2.84289918e+007,\n",
       "           2.39056597e+007, 2.01020125e+007, 1.69035473e+007,\n",
       "           1.42139785e+007, 1.19523394e+007, 1.00505451e+007,\n",
       "           8.45134300e+006, 7.10658934e+006, 5.97580015e+006,\n",
       "           5.02493249e+006, 4.22535973e+006, 3.55300977e+006,\n",
       "           2.98764049e+006, 2.51223034e+006, 2.11246597e+006,\n",
       "           1.77631136e+006, 1.49364547e+006, 1.25595760e+006,\n",
       "           1.05609115e+006, 8.88028195e+005, 7.46708298e+005,\n",
       "           6.27876198e+005, 5.27953686e+005, 4.43931884e+005,\n",
       "           3.73280664e+005, 3.13872473e+005, 2.63918284e+005,\n",
       "           2.21913729e+005, 1.86593809e+005, 1.56894812e+005,\n",
       "           1.31922279e+005, 1.10924080e+005, 9.32677638e+004,\n",
       "           7.84215166e+004, 6.59381499e+004, 5.54416343e+004,\n",
       "           4.66157772e+004, 3.91947017e+004, 3.29548400e+004,\n",
       "           2.77082017e+004, 2.32967122e+004, 1.95874523e+004,\n",
       "           1.64686560e+004, 1.38463434e+004, 1.16414915e+004,\n",
       "           9.78765318e+003, 8.22895661e+003, 6.91842200e+003,\n",
       "           5.81654664e+003, 4.89011505e+003, 4.11119835e+003,\n",
       "           3.45631299e+003, 2.90571323e+003, 2.44279634e+003,\n",
       "           2.05360233e+003, 1.72639336e+003, 1.45130007e+003,\n",
       "           1.22002420e+003, 1.02558852e+003, 8.62126557e+002,\n",
       "           7.24705806e+002, 6.09179056e+002, 5.12059394e+002,\n",
       "           4.30415094e+002, 3.61781237e+002, 3.04085400e+002,\n",
       "           2.55585174e+002, 2.14815621e+002, 1.80545098e+002,\n",
       "           1.51738121e+002, 1.27524121e+002, 1.07171198e+002,\n",
       "           9.00640285e+001, 7.56853120e+001, 6.36001556e+001,\n",
       "           5.34429521e+001, 4.49063455e+001, 3.77319535e+001,\n",
       "           3.17025670e+001, 2.66355918e+001, 2.23775349e+001,\n",
       "           1.87993681e+001, 1.57926309e+001, 1.32661531e+001,\n",
       "           1.11433003e+001, 9.35965735e+000, 7.86108103e+000,\n",
       "           6.60206324e+000, 5.54435453e+000, 4.65580709e+000,\n",
       "           3.90940210e+000, 3.28243196e+000, 2.75581291e+000,\n",
       "           2.31350719e+000, 1.94203720e+000, 1.63007722e+000,\n",
       "           1.36811009e+000, 1.14813872e+000, 9.63443524e-001,\n",
       "           8.08378548e-001, 6.78200128e-001, 5.68922849e-001,\n",
       "           4.77198484e-001, 4.00214251e-001, 3.35607292e-001,\n",
       "           2.81392807e-001, 2.35903643e-001, 1.97739543e-001,\n",
       "           1.65724476e-001, 1.38870796e-001, 1.16349114e-001,\n",
       "           9.74629864e-002, 8.16276419e-002, 6.83521140e-002,\n",
       "           5.72242220e-002, 4.78979566e-002, 4.00828804e-002,\n",
       "           3.35352236e-002, 2.80504043e-002, 2.34567448e-002,\n",
       "           1.96101940e-002, 1.63898944e-002, 1.36944586e-002,\n",
       "           1.14388428e-002, 9.55172050e-003, 7.97327789e-003,\n",
       "           6.65336203e-003, 5.54992644e-003, 4.62772598e-003,\n",
       "           3.85722121e-003, 3.21365873e-003, 2.67629923e-003,\n",
       "           2.22776968e-003, 1.85351963e-003, 1.54136503e-003,\n",
       "           1.28110547e-003, 1.06420310e-003, 8.83513246e-004,\n",
       "           7.33058519e-004, 6.07839370e-004, 5.03675219e-004,\n",
       "           4.17071274e-004, 3.45106888e-004, 2.85341978e-004,\n",
       "           2.35738619e-004, 1.94595332e-004, 1.60492053e-004,\n",
       "           1.32244033e-004, 1.08863232e-004, 8.95260062e-005,\n",
       "           7.35460535e-005, 6.03517767e-005, 4.94673445e-005,\n",
       "           4.04968495e-005, 3.31110623e-005, 2.70363573e-005,\n",
       "           2.20454593e-005, 1.79497114e-005, 1.45926180e-005,\n",
       "           1.18444542e-005, 9.59776620e-006, 7.76361860e-006,\n",
       "           6.26846400e-006, 5.05153430e-006, 4.06266699e-006,\n",
       "           3.26049508e-006, 2.61094054e-006, 2.08596095e-006,\n",
       "           1.66250760e-006, 1.32165967e-006, 1.04790541e-006,\n",
       "           8.28545619e-007, 6.53199030e-007, 5.13392557e-007,\n",
       "           4.02222049e-007, 3.14071713e-007, 2.44382266e-007,\n",
       "           1.89459544e-007, 1.46316680e-007, 1.12544116e-007,\n",
       "           8.62026608e-008, 6.57356377e-008, 4.98968046e-008,\n",
       "           3.76913123e-008, 2.83274177e-008, 2.11770640e-008,\n",
       "           1.57437596e-008, 1.16364587e-008, 8.54836855e-009,\n",
       "           6.23979543e-009, 4.52429516e-009, 3.25752324e-009,\n",
       "           2.32828521e-009, 1.65137667e-009, 1.16187533e-009,\n",
       "           8.10608186e-010, 5.60566753e-010, 3.84084890e-010,\n",
       "           2.60627781e-010, 1.75068845e-010, 1.16354551e-010,\n",
       "           7.64761571e-011, 4.96830686e-011, 3.18853463e-011,\n",
       "           2.02033608e-011, 1.26311643e-011, 7.78709636e-012,\n",
       "           4.73077435e-012, 2.83016621e-012, 1.66609177e-012,\n",
       "           9.64411727e-013, 5.48474332e-013, 3.06208819e-013,\n",
       "           1.67674411e-013, 8.99716694e-014, 4.72626459e-014,\n",
       "           2.42810362e-014, 1.21869876e-014, 5.96934823e-015,\n",
       "           2.85008392e-015, 1.32484069e-015, 5.98818512e-016,\n",
       "           2.62831005e-016, 1.11867733e-016, 4.61050478e-017,\n",
       "           1.83715663e-017, 7.06651613e-018, 2.61939282e-018,\n",
       "           9.34054801e-019, 3.19834233e-019, 1.04960332e-019,\n",
       "           3.29458329e-020, 9.87045028e-021, 2.81629098e-021,\n",
       "           7.63518944e-022, 1.96206816e-022, 4.76717342e-023,\n",
       "           1.09221720e-023, 2.35316532e-024, 4.75366283e-025,\n",
       "           8.97664893e-026, 1.57951922e-026, 2.58112936e-027,\n",
       "           3.90345866e-028, 5.44318741e-029, 6.97195490e-030,\n",
       "           8.16974160e-031, 8.72141405e-032, 8.44454509e-033,\n",
       "           7.38196196e-034, 5.79794591e-035, 4.07084601e-036,\n",
       "           2.54156205e-037, 1.40317154e-038, 6.81066103e-040,\n",
       "           2.88862534e-041, 1.06376708e-042, 3.37873536e-044,\n",
       "           9.19127695e-046, 2.12583536e-047, 4.14842350e-049,\n",
       "           6.77557605e-051, 9.18467924e-053, 1.02425596e-054,\n",
       "           9.31045348e-057, 6.83207297e-059, 4.00641974e-061,\n",
       "           1.85770911e-063, 6.73586757e-066, 1.88778758e-068,\n",
       "           4.03986453e-071, 6.51770590e-074, 7.82231336e-077,\n",
       "           6.88671321e-080, 4.38290070e-083, 1.98572767e-086,\n",
       "           6.30240898e-090, 1.37788405e-093, 2.03883763e-097,\n",
       "           2.00446811e-101, 1.28429777e-105, 5.25519491e-110,\n",
       "           1.34449462e-114, 2.10344686e-119, 1.96609844e-124,\n",
       "           1.07152307e-129, 3.31926106e-135, 5.69012811e-141,\n",
       "           5.24918485e-147, 2.53060680e-153, 6.18290293e-160] W / m2>"
      ]
     },
     "execution_count": 3,
     "metadata": {},
     "output_type": "execute_result"
    }
   ],
   "source": [
    "F_rad_weakDW(T_req, Σ_initial(r_au),  α_φz_func(Σ_initial(r_au)))"
   ]
  },
  {
   "cell_type": "code",
   "execution_count": 4,
   "metadata": {},
   "outputs": [],
   "source": [
    "def T_vis_weakDW(T, Σ, α_φz):\n",
    "    return (opacity(T, Σ) * ((0.5 * sigma_sb**(-1)) * F_rad_weakDW(T, Σ, α_φz))**(0.25)).decompose()"
   ]
  },
  {
   "cell_type": "code",
   "execution_count": 5,
   "metadata": {},
   "outputs": [
    {
     "data": {
      "text/latex": [
       "$[5627.27,~5388.6917,~5160.2274,~\\dots,~1.4667717 \\times 10^{-35},~3.8649665 \\times 10^{-37},~8.5928588 \\times 10^{-39}] \\; \\mathrm{K}$"
      ],
      "text/plain": [
       "<Quantity [5.62727003e+03, 5.38869173e+03, 5.16022742e+03, 4.94144835e+03,\n",
       "           4.73194392e+03, 4.53132096e+03, 4.33920296e+03, 4.15522936e+03,\n",
       "           3.97905490e+03, 3.81034895e+03, 3.64879489e+03, 3.49408954e+03,\n",
       "           3.34594256e+03, 3.20407591e+03, 3.06822335e+03, 2.93812994e+03,\n",
       "           2.81355152e+03, 2.69425429e+03, 2.58001437e+03, 2.47061736e+03,\n",
       "           2.36585796e+03, 2.26553957e+03, 2.16947391e+03, 2.07748369e+03,\n",
       "           1.99190367e+03, 2.66620124e+03, 1.28516763e+04, 5.29769767e+04,\n",
       "           6.33051614e+04, 5.96246842e+04, 5.61146151e+04, 5.28110148e+04,\n",
       "           4.97018310e+04, 4.67756236e+04, 4.40216254e+04, 4.14297028e+04,\n",
       "           3.89903185e+04, 3.66944965e+04, 3.45337887e+04, 3.25002445e+04,\n",
       "           3.05863809e+04, 2.87851552e+04, 2.70899392e+04, 2.54944948e+04,\n",
       "           2.39929507e+04, 2.25797814e+04, 2.12497864e+04, 1.99980712e+04,\n",
       "           1.88200293e+04, 1.77113253e+04, 1.66678790e+04, 1.56858500e+04,\n",
       "           1.47616243e+04, 1.38918002e+04, 1.30731764e+04, 1.23027398e+04,\n",
       "           1.15776547e+04, 1.08952524e+04, 1.02530209e+04, 9.64859636e+03,\n",
       "           9.07975379e+03, 8.54439926e+03, 8.04056202e+03, 7.56638729e+03,\n",
       "           7.12012942e+03, 6.70014551e+03, 6.30488931e+03, 5.93290557e+03,\n",
       "           5.58282467e+03, 5.25335760e+03, 4.94329117e+03, 4.65148362e+03,\n",
       "           4.37686035e+03, 4.11840999e+03, 3.87518072e+03, 3.64627669e+03,\n",
       "           3.43085479e+03, 3.22812152e+03, 3.03733007e+03, 2.85777758e+03,\n",
       "           2.68880255e+03, 2.52978242e+03, 2.38013123e+03, 2.23929755e+03,\n",
       "           2.10676236e+03, 1.98203720e+03, 1.86466237e+03, 1.75420518e+03,\n",
       "           1.65025845e+03, 1.55243893e+03, 1.46038594e+03, 1.37376002e+03,\n",
       "           1.29224169e+03, 1.21553027e+03, 1.14334277e+03, 1.07541285e+03,\n",
       "           1.01148988e+03, 9.51337925e+02, 8.94734978e+02, 8.41472080e+02,\n",
       "           7.91352573e+02, 7.44191372e+02, 6.99814287e+02, 6.58057378e+02,\n",
       "           6.18766355e+02, 5.81796009e+02, 5.47009676e+02, 5.14278738e+02,\n",
       "           4.83482145e+02, 4.54505974e+02, 4.27243005e+02, 4.01592332e+02,\n",
       "           3.77458987e+02, 3.54753591e+02, 3.33392029e+02, 3.13295135e+02,\n",
       "           2.94388405e+02, 2.76601719e+02, 2.59869087e+02, 2.44128402e+02,\n",
       "           2.29321215e+02, 2.15392518e+02, 2.02290539e+02, 1.89966558e+02,\n",
       "           1.78374721e+02, 1.67471876e+02, 1.57217409e+02, 1.47033856e+02,\n",
       "           1.36411989e+02, 1.26540779e+02, 1.17367680e+02, 1.08843817e+02,\n",
       "           1.00923723e+02, 9.35651043e+01, 8.67286210e+01, 8.03776780e+01,\n",
       "           7.44782358e+01, 6.89986311e+01, 6.39094119e+01, 5.91831830e+01,\n",
       "           5.47944626e+01, 5.07195488e+01, 4.69363956e+01, 4.34244975e+01,\n",
       "           4.01647819e+01, 3.71395090e+01, 3.43321793e+01, 3.17274466e+01,\n",
       "           2.93110378e+01, 2.70696779e+01, 2.49910205e+01, 2.30635827e+01,\n",
       "           2.12766853e+01, 1.96203962e+01, 1.80854787e+01, 1.66633425e+01,\n",
       "           1.53459991e+01, 1.41260193e+01, 1.29964946e+01, 1.19510007e+01,\n",
       "           1.09835634e+01, 1.00886280e+01, 9.26102928e+00, 8.49596517e+00,\n",
       "           7.78897105e+00, 7.13589670e+00, 6.53288464e+00, 5.97635016e+00,\n",
       "           5.46296290e+00, 4.98962996e+00, 4.55348042e+00, 4.15185137e+00,\n",
       "           3.78227534e+00, 3.44246936e+00, 3.13032556e+00, 2.84390357e+00,\n",
       "           2.58142490e+00, 2.34126946e+00, 2.12197452e+00, 1.92223595e+00,\n",
       "           1.74091151e+00, 1.57702471e+00, 1.42976595e+00, 1.29848488e+00,\n",
       "           1.18266351e+00, 1.08185690e+00, 9.95590803e-01, 9.23221554e-01,\n",
       "           8.63794564e-01, 8.15966569e-01, 7.78049192e-01, 7.48172865e-01,\n",
       "           7.24501850e-01, 7.05412869e-01, 6.68323718e-01, 6.18460283e-01,\n",
       "           5.71846593e-01, 5.28222283e-01, 4.87364190e-01, 4.49080216e-01,\n",
       "           4.13203923e-01, 3.79589880e-01, 3.48109705e-01, 3.18648776e-01,\n",
       "           2.91103498e-01, 2.65379092e-01, 2.41387793e-01, 2.19047424e-01,\n",
       "           1.98280250e-01, 1.79012093e-01, 1.61171634e-01, 1.44689879e-01,\n",
       "           1.29499759e-01, 1.15535831e-01, 1.02734064e-01, 9.10316961e-02,\n",
       "           8.03671438e-02, 7.06799604e-02, 6.19108309e-02, 5.40015991e-02,\n",
       "           4.68953204e-02, 4.05363369e-02, 3.48703704e-02, 2.98446287e-02,\n",
       "           2.54079232e-02, 2.15107930e-02, 1.81056319e-02, 1.51468146e-02,\n",
       "           1.25908192e-02, 1.03963403e-02, 8.52439122e-03, 6.93839014e-03,\n",
       "           5.60422776e-03, 4.49031374e-03, 3.56759965e-03, 2.80957678e-03,\n",
       "           2.19224821e-03, 1.69407509e-03, 1.29589795e-03, 9.80834798e-04,\n",
       "           7.34158261e-04, 5.43155033e-04, 3.96971152e-04, 2.86447160e-04,\n",
       "           2.03947361e-04, 1.43187400e-04, 9.90642190e-05, 6.74920589e-05,\n",
       "           4.52477159e-05, 2.98275874e-05, 1.93183840e-05, 1.22826481e-05,\n",
       "           7.65952721e-06, 4.68061466e-06, 2.80013009e-06, 1.63829327e-06,\n",
       "           9.36453664e-07, 5.22376501e-07, 2.84041971e-07, 1.50368929e-07,\n",
       "           7.74035243e-08, 3.86914269e-08, 1.87550082e-08, 8.80312530e-09,\n",
       "           3.99495941e-09, 1.75005301e-09, 7.38802083e-10, 3.00043021e-10,\n",
       "           1.17009729e-10, 4.37331076e-11, 1.56342165e-11, 5.33464551e-12,\n",
       "           1.73357124e-12, 5.35281551e-13, 1.56667059e-13, 4.33539506e-14,\n",
       "           1.13131617e-14, 2.77611819e-15, 6.38745492e-16, 1.37382453e-16,\n",
       "           2.75336164e-17, 5.12475809e-18, 8.82759838e-19, 1.40210318e-19,\n",
       "           2.04559422e-20, 2.73033674e-21, 3.32003556e-22, 3.66172080e-23,\n",
       "           3.64619049e-24, 3.26216556e-25, 2.60907627e-26, 1.85557851e-27,\n",
       "           1.16700429e-28, 6.45269119e-30, 3.11774039e-31, 1.30797643e-32,\n",
       "           4.73282099e-34, 1.46677174e-35, 3.86496650e-37, 8.59285877e-39] K>"
      ]
     },
     "execution_count": 5,
     "metadata": {},
     "output_type": "execute_result"
    }
   ],
   "source": [
    "T_vis_weakDW(T_req, Σ_initial(r_au), α_φz_func(Σ_initial(r_au)))"
   ]
  },
  {
   "cell_type": "code",
   "execution_count": 6,
   "metadata": {},
   "outputs": [
    {
     "data": {
      "text/latex": [
       "$[2800,~2736.0535,~2673.5674,~\\dots,~2.9324115,~2.865441,~2.8] \\; \\mathrm{K}$"
      ],
      "text/plain": [
       "<Quantity [2800.        , 2736.05350835, 2673.56742878, 2612.50840833,\n",
       "           2552.8438558 , 2494.54192426, 2437.57149415, 2381.90215658,\n",
       "           2327.50419717, 2274.34858013, 2222.40693282, 2171.65153055,\n",
       "           2122.05528182, 2073.59171383, 2026.2349584 , 1979.9597381 ,\n",
       "           1934.7413528 , 1890.55566646, 1847.37909427, 1805.18859005,\n",
       "           1763.96163395, 1723.67622042, 1684.31084648, 1645.84450024,\n",
       "           1608.25664967, 1571.52723167, 1535.63664131, 1500.56572144,\n",
       "           1466.29575238, 1432.80844199, 1400.0859159 , 1368.11070792,\n",
       "           1336.8657508 , 1306.33436703, 1276.50025999, 1247.34750528,\n",
       "           1218.86054212, 1191.02416517, 1163.8235163 , 1137.24407675,\n",
       "           1111.2716593 , 1085.89240077, 1061.09275458, 1036.85948352,\n",
       "           1013.1796527 ,  990.04062263,  967.43004249,  945.33584351,\n",
       "            923.74623258,  902.64968588,  882.03494281,  861.89099992,\n",
       "            842.20710505,  822.97275162,  804.17767298,  785.81183697,\n",
       "            767.86544051,  750.32890445,  733.19286837,  716.44818565,\n",
       "            700.08591853,  684.09733341,  668.47389612,  653.2072674 ,\n",
       "            638.28929845,  623.71202656,  609.46767088,  595.54862827,\n",
       "            581.9474692 ,  568.65693385,  555.66992819,  542.97952018,\n",
       "            530.57893612,  518.46155702,  506.62091501,  495.05068997,\n",
       "            483.74470611,  472.69692868,  461.90146075,  451.35254007,\n",
       "            441.04453599,  430.97194644,  421.12939502,  411.51162811,\n",
       "            402.11351208,  392.93003053,  383.95628163,  375.1874755 ,\n",
       "            366.61893166,  358.2460765 ,  350.06444088,  342.06965772,\n",
       "            334.25745968,  326.62367688,  319.16423465,  311.87515142,\n",
       "            304.7525365 ,  297.7925881 ,  290.99159122,  284.34591574,\n",
       "            277.85201441,  271.50642101,  265.30574848,  259.24668711,\n",
       "            253.32600279,  247.54053524,  241.8871964 ,  236.36296869,\n",
       "            230.96490347,  225.69011945,  220.53580111,  215.49919727,\n",
       "            210.57761955,  205.76844098,  201.06909459,  196.47707203,\n",
       "            191.98992223,  187.6052501 ,  183.32071526,  179.13403076,\n",
       "            175.0429619 ,  171.04532501,  167.13898628,  163.32186064,\n",
       "            159.59191064,  155.94714536,  152.38561935,  148.90543159,\n",
       "            145.50472447,  142.18168281,  138.93453288,  135.76154147,\n",
       "            132.66101495,  129.63129835,  126.67077451,  123.77786322,\n",
       "            120.95102033,  118.18873696,  115.48953872,  112.85198486,\n",
       "            110.27466753,  107.75621107,  105.29527119,  102.89053434,\n",
       "            100.54071695,   98.24456477,   96.00085218,   93.80838158,\n",
       "             91.66598269,   89.57251197,   87.52685201,   85.5279109 ,\n",
       "             83.57462167,   81.66594173,   79.80085228,   77.9783578 ,\n",
       "             76.19748551,   74.45728485,   72.75682694,   71.09520414,\n",
       "             69.47152954,   67.88493648,   66.33457808,   64.81962681,\n",
       "             63.33927405,   61.89272964,   60.47922145,   59.09799501,\n",
       "             57.74831307,   56.42945521,   55.14071746,   53.88141195,\n",
       "             52.6508665 ,   51.44842429,   50.27344349,   49.12529694,\n",
       "             48.0033718 ,   46.90706923,   45.83580405,   44.78900445,\n",
       "             43.7661117 ,   42.76657981,   41.78987526,   40.83547672,\n",
       "             39.90287477,   38.99157161,   38.10108082,   37.23092709,\n",
       "             36.38064596,   35.54978357,   34.73789645,   33.94455124,\n",
       "             33.16932447,   32.41180235,   31.67158054,   30.94826395,\n",
       "             30.24146649,   29.55081089,   28.8759285 ,   28.2164591 ,\n",
       "             27.57205068,   26.94235929,   26.3270488 ,   25.7257908 ,\n",
       "             25.13826435,   24.56415584,   24.00315885,   23.45497392,\n",
       "             22.91930846,   22.39587654,   21.88439878,   21.38460217,\n",
       "             20.89621992,   20.41899137,   19.95266177,   19.49698223,\n",
       "             19.05170951,   18.61660595,   18.19143929,   17.77598261,\n",
       "             17.37001413,   16.97331718,   16.58568001,   16.20689571,\n",
       "             15.83676209,   15.4750816 ,   15.12166118,   14.77631219,\n",
       "             14.43885029,   14.10909535,   13.78687137,   13.47200635,\n",
       "             13.16433223,   12.86368478,   12.56990352,   12.28283165,\n",
       "             12.00231594,   11.72820666,   11.46035749,   11.19862547,\n",
       "             10.9428709 ,   10.69295725,   10.44875115,   10.21012222,\n",
       "              9.97694312,    9.74908937,    9.52643934,    9.30887421,\n",
       "              9.09627784,    8.88853675,    8.68554005,    8.4871794 ,\n",
       "              8.29334892,    8.10394515,    7.91886698,    7.73801564,\n",
       "              7.56129459,    7.38860949,    7.21986819,    7.0549806 ,\n",
       "              6.89385872,    6.73641655,    6.58257005,    6.4322371 ,\n",
       "              6.28533746,    6.14179272,    6.00152625,    5.8644632 ,\n",
       "              5.7305304 ,    5.59965636,    5.47177122,    5.34680673,\n",
       "              5.22469618,    5.1053744 ,    4.98877769,    4.87484383,\n",
       "              4.76351198,    4.65472274,    4.54841803,    4.44454111,\n",
       "              4.34303654,    4.24385012,    4.14692894,    4.05222124,\n",
       "              3.95967648,    3.86924526,    3.78087931,    3.69453146,\n",
       "              3.61015563,    3.52770678,    3.44714089,    3.36841498,\n",
       "              3.29148701,    3.21631592,    3.14286159,    3.07108481,\n",
       "              3.00094728,    2.93241155,    2.86544104,    2.8       ] K>"
      ]
     },
     "execution_count": 6,
     "metadata": {},
     "output_type": "execute_result"
    }
   ],
   "source": [
    "T_req"
   ]
  },
  {
   "cell_type": "code",
   "execution_count": 15,
   "metadata": {},
   "outputs": [],
   "source": [
    "T0_MRI_inactive_weakDW_Σtorque = np.genfromtxt('..\\Temperature_presets\\T0_MRI_inactive_weakDW_Σtorque.csv') * u.K"
   ]
  },
  {
   "cell_type": "code",
   "execution_count": 16,
   "metadata": {},
   "outputs": [],
   "source": [
    "T0_strongDW_inactive = np.genfromtxt('..\\Temperature_presets\\T0_MRI_inactive_strongDW.csv') * u.K"
   ]
  },
  {
   "cell_type": "code",
   "execution_count": 19,
   "metadata": {},
   "outputs": [
    {
     "name": "stdout",
     "output_type": "stream",
     "text": [
      "K\n"
     ]
    },
    {
     "data": {
      "text/plain": [
       "<matplotlib.legend.Legend at 0x1f9c21d99a0>"
      ]
     },
     "execution_count": 19,
     "metadata": {},
     "output_type": "execute_result"
    },
    {
     "data": {
      "image/png": "[encoded data removed]",
      "text/plain": [
       "<Figure size 864x432 with 1 Axes>"
      ]
     },
     "metadata": {
      "needs_background": "light"
     },
     "output_type": "display_data"
    }
   ],
   "source": [
    "fig, axs = plt.subplots(figsize = (12, 6))\n",
    "axs.loglog(r_au, T0_strongDW_inactive, ':', label = 'StrongDW', c = 'red')\n",
    "axs.loglog(r_au, T0_MRI_inactive_weakDW_Σtorque, ':', label = 'WeakDW', c = 'blue')\n",
    "\n",
    "axs.grid(axis = 'x', which = 'both', alpha = 0.4)\n",
    "axs.grid(axis = 'y', which = 'major', alpha = 0.4)\n",
    "axs.set(xlim = (0.01, 300), xlabel = 'r [AU]', ylabel = 'T [K]');\n",
    "print(T0_strongDW_inactive.unit)\n",
    "axs.legend(frameon = False)"
   ]
  },
  {
   "cell_type": "code",
   "execution_count": null,
   "metadata": {},
   "outputs": [],
   "source": []
  }
 ],
 "metadata": {
  "interpreter": {
   "hash": "c72a629dba5ae9edebcad565c17c3988d814021371aabb3db62cb04d2b10dbfe"
  },
  "kernelspec": {
   "display_name": "Python 3.9.7 ('base')",
   "language": "python",
   "name": "python3"
  },
  "language_info": {
   "codemirror_mode": {
    "name": "ipython",
    "version": 3
   },
   "file_extension": ".py",
   "mimetype": "text/x-python",
   "name": "python",
   "nbconvert_exporter": "python",
   "pygments_lexer": "ipython3",
   "version": "3.9.7"
  },
  "orig_nbformat": 4
 },
 "nbformat": 4,
 "nbformat_minor": 2
}
