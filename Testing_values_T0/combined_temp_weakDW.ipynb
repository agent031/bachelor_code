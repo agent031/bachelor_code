{
 "cells": [
  {
   "cell_type": "code",
   "execution_count": 2,
   "metadata": {},
   "outputs": [],
   "source": [
    "import matplotlib as mpl\n",
    "import matplotlib.pyplot as plt\n",
    "from astropy.constants import c, k_B, M_sun, G, m_p, sigma_sb, m_p\n",
    "import astropy.units as u\n",
    "from scipy.sparse import csr_matrix\n",
    "from scipy.optimize import fsolve, differential_evolution, minimize\n",
    "import numpy as np\n",
    "import numba\n",
    "import sys\n",
    "\n",
    "sys.path.append('../Numerical_methods')\n",
    "from bachelor_funcs import Σ_initial\n",
    "from matrix_calculator import A_matrix\n",
    "\n",
    "# Set som plotting standards:\n",
    "font = {'family' : 'serif',\n",
    "        'weight' : 'normal',\n",
    "        'size'   : 12}\n",
    "mpl.rc('font', **font)"
   ]
  },
  {
   "cell_type": "code",
   "execution_count": 3,
   "metadata": {},
   "outputs": [],
   "source": [
    "N = 300\n",
    "r_in = 0.01 # AU\n",
    "r_out = 1e4 # AU \n",
    "r = np.logspace(np.log(r_in), np.log(r_out), N, base = np.exp(1))\n",
    "r_au = r * u.au\n",
    "r_log = np.log(r)\n",
    "Δr_log = r_log[1] - r_log[0]\n",
    "Ω = (np.sqrt((G * M_sun) / r_au**3)).decompose()"
   ]
  },
  {
   "cell_type": "markdown",
   "metadata": {},
   "source": [
    "### Temperature bith viscous heating and stellar irradiation\n",
    "$$T^4 = T_{vis}^4 + T_{req}^4$$\n",
    "$$T_{req}=T_{1au}\\left(\\frac{r}{1au}\\right)^p$$"
   ]
  },
  {
   "cell_type": "code",
   "execution_count": 4,
   "metadata": {},
   "outputs": [
    {
     "data": {
      "text/plain": [
       "Text(0.5, 0, 'Distance from star [AU]')"
      ]
     },
     "execution_count": 4,
     "metadata": {},
     "output_type": "execute_result"
    },
    {
     "data": {
      "image/png": "[encoded data removed]",
      "text/plain": [
       "<Figure size 432x288 with 1 Axes>"
      ]
     },
     "metadata": {
      "needs_background": "light"
     },
     "output_type": "display_data"
    }
   ],
   "source": [
    "T_1au = 280 * u.K\n",
    "p = -1/2\n",
    "\n",
    "T_req = T_1au * (r)**p\n",
    "plt.loglog(r, T_req)\n",
    "plt.loglog(r[np.where((T_req >= 150 * u.K) & (T_req <= 1500 * u.K))], T_req[np.where((T_req >= 150 * u.K) & (T_req <= 1500 * u.K))])\n",
    "plt.ylabel('Temperetur [K]')\n",
    "plt.xlabel('Distance from star [AU]')"
   ]
  },
  {
   "cell_type": "code",
   "execution_count": 5,
   "metadata": {},
   "outputs": [
    {
     "data": {
      "text/plain": [
       "Text(0.5, 0, 'Distance from star [AU]')"
      ]
     },
     "execution_count": 5,
     "metadata": {},
     "output_type": "execute_result"
    },
    {
     "data": {
      "image/png": "[encoded data removed]",
      "text/plain": [
       "<Figure size 432x288 with 1 Axes>"
      ]
     },
     "metadata": {
      "needs_background": "light"
     },
     "output_type": "display_data"
    }
   ],
   "source": [
    "def c_s2(T):\n",
    "    μ = 2.34\n",
    "    return ((k_B * T) / (μ * m_p)).decompose()\n",
    "\n",
    "plt.loglog(r, c_s2(T_req)) \n",
    "c_s2(T_req).unit, T_req.unit\n",
    "plt.ylabel('${c_s}^2$ from radiation T [$m^2/s^2$]')\n",
    "plt.xlabel('Distance from star [AU]')"
   ]
  },
  {
   "cell_type": "markdown",
   "metadata": {},
   "source": [
    "### Temperature at midplane for MRI-active PPDs\n",
    "$$T_{vis}^4 = \\frac{1}{2\\sigma_{SB}}\\left(\\frac{3}{8}\\tau_R+\\frac{1}{3\\tau_P}\\right)F_{rad}$$\n",
    "$$\\tau_R=\\kappa_R\\Sigma/2$$\n",
    "### $\\kappa_R:$\n",
    "$$\\kappa_R = 4.5(T/150K)^2\\;cm^2g^{-1}\\quad T<150K$$\n",
    "$$\\kappa_R = 4.5\\;cm^2g^{-1}\\quad 150K \\leq T \\leq1500K$$\n",
    "$$\\kappa_R = 0\\;cm^2g^{-1}\\quad 1500K<T$$\n",
    "\n",
    "$$\\tau_P = max(2.4\\tau_R,\\;0.5)$$\n",
    "### $F_{rad}$ for the weak DW case (p. 4 Suzuki)\n",
    "$$F_{rad} = \\epsilon_{rad}\\left[\\frac{3}{2}\\Omega\\Sigmaα_{rφ}c_s^2 + r\\Omegaα_{\\phi z}(\\rho c_s^2)_{mid}\\right],\\quad\\epsilon_{rad}=0.9$$\n",
    "$$\\Sigma \\Omega=\\sqrt{2 \\pi}(\\rho c_s)_{mid}\\quad \\Rightarrow \\quad (\\rho c_s)_{mid}=\\frac{1}{\\sqrt{2 \\pi}}\\Sigma \\Omega\n",
    "\\quad ?\\;\\Rightarrow\\quad (\\rho c_s^2)_{mid} = \\frac{c_s}{\\sqrt{2 \\pi}}\\Sigma \\Omega$$\n",
    "$$\\frac{g}{cm^2}\\frac{1}{s} = \\frac{kg}{m^3}\\frac{m}{s}$$ \n",
    "\n"
   ]
  },
  {
   "cell_type": "code",
   "execution_count": 6,
   "metadata": {},
   "outputs": [],
   "source": [
    "def Frad_weakDW(Σ, cs2, α_rφ = 8e-3, α_φz = 0, ε_rad = 0.9):\n",
    "    return ε_rad * (3/2 * Ω * Σ * α_rφ * cs2 + r_au * Ω * α_φz * np.sqrt(cs2) / np.sqrt(2*np.pi) * Σ * Ω).decompose()"
   ]
  },
  {
   "cell_type": "code",
   "execution_count": 7,
   "metadata": {},
   "outputs": [
    {
     "data": {
      "text/latex": [
       "$[3.6093025 \\times 10^{9},~3.0703107 \\times 10^{9},~2.6118067 \\times 10^{9},~\\dots,~5.1476349 \\times 10^{-144},~2.51048 \\times 10^{-150},~6.2049851 \\times 10^{-157}] \\; \\mathrm{\\frac{kg}{s^{3}}}$"
      ],
      "text/plain": [
       "<Quantity [3.60930250e+009, 3.07031068e+009, 2.61180675e+009,\n",
       "           2.22177163e+009, 1.88998101e+009, 1.60773731e+009,\n",
       "           1.36764175e+009, 1.16340039e+009, 9.89659119e+008,\n",
       "           8.41863363e+008, 7.16138661e+008, 6.09189122e+008,\n",
       "           5.18211021e+008, 4.40819312e+008, 3.74985104e+008,\n",
       "           3.18982480e+008, 2.71343252e+008, 2.30818478e+008,\n",
       "           1.96345722e+008, 1.67021201e+008, 1.42076097e+008,\n",
       "           1.20856401e+008, 1.02805767e+008, 8.74509324e+007,\n",
       "           7.43893076e+007, 6.32784237e+007, 5.38269542e+007,\n",
       "           4.57870784e+007, 3.89479840e+007, 3.31303410e+007,\n",
       "           2.81816001e+007, 2.39719936e+007, 2.03911334e+007,\n",
       "           1.73451165e+007, 1.47540637e+007, 1.25500253e+007,\n",
       "           1.06751993e+007, 9.08041613e+006, 7.72384948e+006,\n",
       "           6.56991972e+006, 5.58836096e+006, 4.75342750e+006,\n",
       "           4.04321880e+006, 3.43910520e+006, 2.92523946e+006,\n",
       "           2.48814121e+006, 2.11634348e+006, 1.80009197e+006,\n",
       "           1.53108930e+006, 1.30227742e+006, 1.10765248e+006,\n",
       "           9.42107411e+005, 8.01297995e+005, 6.81528897e+005,\n",
       "           5.79656774e+005, 4.93007820e+005, 4.19307641e+005,\n",
       "           3.56621592e+005, 3.03304035e+005, 2.57955168e+005,\n",
       "           2.19384306e+005, 1.86578645e+005, 1.58676691e+005,\n",
       "           1.34945657e+005, 1.14762238e+005, 9.75962557e+004,\n",
       "           8.29967476e+004, 7.05801323e+004, 6.00201434e+004,\n",
       "           5.10392675e+004, 4.34014604e+004, 3.69059513e+004,\n",
       "           3.13819730e+004, 2.66842792e+004, 2.26893311e+004,\n",
       "           1.92920539e+004, 1.64030780e+004, 1.39463923e+004,\n",
       "           1.18573478e+004, 1.00809598e+004, 8.57046347e+003,\n",
       "           7.28608570e+003, 6.19399990e+003, 5.26543733e+003,\n",
       "           4.47593107e+003, 3.80467306e+003, 3.23396712e+003,\n",
       "           2.74876377e+003, 2.33626455e+003, 1.98558548e+003,\n",
       "           1.68747083e+003, 1.43404964e+003, 1.21862865e+003,\n",
       "           1.03551618e+003, 8.79872367e+002, 7.47581725e+002,\n",
       "           6.35144816e+002, 5.39586089e+002, 4.58375507e+002,\n",
       "           3.89361889e+002, 3.30716225e+002, 2.80883464e+002,\n",
       "           2.38541511e+002, 2.02566362e+002, 1.72002449e+002,\n",
       "           1.46037425e+002, 1.23980720e+002, 1.05245302e+002,\n",
       "           8.93321746e+001, 7.58171858e+001, 6.43398190e+001,\n",
       "           5.45936560e+001, 4.63182708e+001, 3.92923353e+001,\n",
       "           3.33277586e+001, 2.82647030e+001, 2.39673471e+001,\n",
       "           2.03202832e+001, 1.72254544e+001, 1.45995512e+001,\n",
       "           1.23717973e+001, 1.04820684e+001, 8.87929220e+000,\n",
       "           7.52008849e+000, 6.36761352e+000, 5.39057743e+000,\n",
       "           4.56240912e+000, 3.86054660e+000, 3.26583372e+000,\n",
       "           2.76200760e+000, 2.33526293e+000, 1.97388183e+000,\n",
       "           1.66791925e+000, 1.40893574e+000, 1.18977031e+000,\n",
       "           1.00434756e+000, 8.47513740e-001, 7.14897538e-001,\n",
       "           6.02791829e-001, 5.08053221e-001, 4.28016750e-001,\n",
       "           3.60423439e-001, 3.03358779e-001, 2.55200499e-001,\n",
       "           2.14574221e-001, 1.80315814e-001, 1.51439441e-001,\n",
       "           1.27110438e-001, 1.06622296e-001, 8.93771333e-002,\n",
       "           7.48691235e-002, 6.26704378e-002, 5.24193221e-002,\n",
       "           4.38099842e-002, 3.65840185e-002, 3.05231360e-002,\n",
       "           2.54430007e-002, 2.11880063e-002, 1.76268499e-002,\n",
       "           1.46487811e-002, 1.21604263e-002, 1.00830973e-002,\n",
       "           8.35051419e-003, 6.90687684e-003, 5.70523310e-003,\n",
       "           4.70609818e-003, 3.87628693e-003, 3.18792632e-003,\n",
       "           2.61762074e-003, 2.14574668e-003, 1.75585676e-003,\n",
       "           1.43417661e-003, 1.16918010e-003, 9.51230874e-004,\n",
       "           7.72280140e-004, 6.25611756e-004, 5.05627511e-004,\n",
       "           4.07666252e-004, 3.27851638e-004, 2.62964063e-004,\n",
       "           2.10332963e-004, 1.67746334e-004, 1.33374765e-004,\n",
       "           1.05707686e-004, 8.34999289e-005, 6.57269618e-005,\n",
       "           5.15474212e-005, 4.02717850e-005, 3.13362064e-005,\n",
       "           2.42806819e-005, 1.87308579e-005, 1.43828881e-005,\n",
       "           1.09908480e-005, 8.35629003e-006, 6.31958909e-006,\n",
       "           4.75278438e-006, 3.55366975e-006, 2.64092483e-006,\n",
       "           1.95011274e-006, 1.43039790e-006, 1.04186157e-006,\n",
       "           7.53312609e-007, 5.40507545e-007, 3.84708431e-007,\n",
       "           2.71518680e-007, 1.89947079e-007, 1.31658547e-007,\n",
       "           9.03772431e-008, 6.14134927e-008, 4.12909478e-008,\n",
       "           2.74545340e-008, 1.80431755e-008, 1.17141893e-008,\n",
       "           7.50863955e-009, 4.74894955e-009, 2.96173538e-009,\n",
       "           1.82020150e-009, 1.10157914e-009, 6.56023215e-010,\n",
       "           3.84148636e-010, 2.21008839e-010, 1.24820969e-010,\n",
       "           6.91437868e-011, 3.75326011e-011, 1.99451555e-011,\n",
       "           1.03658071e-011, 5.26318677e-012, 2.60792941e-012,\n",
       "           1.25963021e-012, 5.92332522e-013, 2.70840517e-013,\n",
       "           1.20257316e-013, 5.17793076e-014, 2.15881967e-014,\n",
       "           8.70223006e-015, 3.38615017e-015, 1.26974927e-015,\n",
       "           4.58042921e-016, 1.58662846e-016, 5.26734736e-017,\n",
       "           1.67256778e-017, 5.06916778e-018, 1.46316630e-018,\n",
       "           4.01284552e-019, 1.04318942e-019, 2.56404998e-020,\n",
       "           5.94279841e-021, 1.29524187e-021, 2.64693486e-022,\n",
       "           5.05644819e-023, 9.00062511e-024, 1.48790076e-024,\n",
       "           2.27630373e-025, 3.21107420e-026, 4.16071576e-027,\n",
       "           4.93217207e-028, 5.32639319e-029, 5.21721808e-030,\n",
       "           4.61371693e-031, 3.66580795e-032, 2.60373408e-033,\n",
       "           1.64448179e-034, 9.18449995e-036, 4.50972860e-037,\n",
       "           1.93494554e-038, 7.20842622e-040, 2.31613821e-041,\n",
       "           6.37386004e-043, 1.49132628e-044, 2.94403180e-046,\n",
       "           4.86431845e-048, 6.67046530e-050, 7.52518174e-052,\n",
       "           6.91983402e-054, 5.13681218e-056, 3.04729136e-058,\n",
       "           1.42939277e-060, 5.24304694e-063, 1.48648202e-065,\n",
       "           3.21802685e-068, 5.25211155e-071, 6.37662249e-074,\n",
       "           5.67915610e-077, 3.65636671e-080, 1.67580740e-083,\n",
       "           5.38055772e-087, 1.19000744e-090, 1.78129534e-094,\n",
       "           1.77161245e-098, 1.14828998e-102, 4.75325320e-107,\n",
       "           1.23020490e-111, 1.94700108e-116, 1.84101005e-121,\n",
       "           1.01500616e-126, 3.18071537e-132, 5.51596726e-138,\n",
       "           5.14763488e-144, 2.51048000e-150, 6.20498515e-157] kg / s3>"
      ]
     },
     "execution_count": 7,
     "metadata": {},
     "output_type": "execute_result"
    }
   ],
   "source": [
    "Frad_weakDW(Σ_initial(r_au), c_s2(T_req))"
   ]
  },
  {
   "cell_type": "code",
   "execution_count": 8,
   "metadata": {},
   "outputs": [],
   "source": [
    "def tau_R(T, Σ):\n",
    "    if type(T) != np.ndarray:\n",
    "        T = (T.value).copy()\n",
    "    else:\n",
    "        T = T.copy()\n",
    "    T[T < 150] = 4.5 * (T[T < 150] / 150)**2 \n",
    "\n",
    "    T[np.where((T >= 150) & (T <= 1500))] = 4.5 \n",
    "\n",
    "    T[T > 1500] = 0 \n",
    "\n",
    "    return T * (Σ.to('g/cm2')).value / 2\n",
    "\n",
    "\n",
    "def tau_P(τ_R):\n",
    "    τ_R_new = τ_R.copy()\n",
    "    τ_R_new[2.4 * τ_R_new <= 0.5] = 0.5\n",
    "    τ_R_new[2.4 * τ_R_new >= 0.5] = 2.4 * τ_R_new\n",
    "    return τ_R_new"
   ]
  },
  {
   "cell_type": "code",
   "execution_count": 9,
   "metadata": {},
   "outputs": [],
   "source": [
    "def T_vis_weakDW(T, Σ):\n",
    "    return ((0.5 * sigma_sb**(-1) * (3/8 * tau_R(T, Σ) + 0.5 * tau_P(tau_R(T, Σ))**(-1)) * Frad_weakDW(Σ, c_s2(T)))**(0.25)).decompose()"
   ]
  },
  {
   "cell_type": "code",
   "execution_count": 10,
   "metadata": {},
   "outputs": [
    {
     "data": {
      "text/latex": [
       "$[10731.059,~10305.815,~9897.4204,~\\dots,~6.5946035 \\times 10^{-35},~1.7427133 \\times 10^{-36},~3.8857239 \\times 10^{-38}] \\; \\mathrm{K}$"
      ],
      "text/plain": [
       "<Quantity [1.07310589e+04, 1.03058149e+04, 9.89742037e+03, 9.50520769e+03,\n",
       "           9.12853566e+03, 8.76678850e+03, 8.41937482e+03, 8.08572670e+03,\n",
       "           7.76529867e+03, 7.45756692e+03, 7.16202836e+03, 6.87819987e+03,\n",
       "           6.60561743e+03, 6.34383545e+03, 6.09242597e+03, 5.85097798e+03,\n",
       "           5.61909679e+03, 5.39640331e+03, 5.18253349e+03, 4.97713771e+03,\n",
       "           4.77988019e+03, 4.59043847e+03, 4.40850285e+03, 4.23377591e+03,\n",
       "           4.06597202e+03, 3.90481686e+03, 3.75004698e+03, 3.60140937e+03,\n",
       "           1.63039253e+05, 1.53884928e+05, 1.45244401e+05, 1.37088839e+05,\n",
       "           1.29391024e+05, 1.22125266e+05, 1.15267317e+05, 1.08794290e+05,\n",
       "           1.02684583e+05, 9.69178042e+04, 9.14747088e+04, 8.63371307e+04,\n",
       "           8.14879232e+04, 7.69109023e+04, 7.25907922e+04, 6.85131743e+04,\n",
       "           6.46644392e+04, 6.10317413e+04, 5.76029560e+04, 5.43666390e+04,\n",
       "           5.13119883e+04, 4.84288083e+04, 4.57074754e+04, 4.31389060e+04,\n",
       "           4.07145267e+04, 3.84262447e+04, 3.62664219e+04, 3.42278485e+04,\n",
       "           3.23037194e+04, 3.04876116e+04, 2.87734624e+04, 2.71555493e+04,\n",
       "           2.56284711e+04, 2.41871297e+04, 2.28267130e+04, 2.15426790e+04,\n",
       "           2.03307408e+04, 1.91868519e+04, 1.81071928e+04, 1.70881587e+04,\n",
       "           1.61263467e+04, 1.52185453e+04, 1.43617228e+04, 1.35530180e+04,\n",
       "           1.27897301e+04, 1.20693100e+04, 1.13893514e+04, 1.07475835e+04,\n",
       "           1.01418624e+04, 9.57016492e+03, 9.03058131e+03, 8.52130899e+03,\n",
       "           8.04064654e+03, 7.58698804e+03, 7.15881771e+03, 6.75470482e+03,\n",
       "           6.37329897e+03, 6.01332551e+03, 5.67358135e+03, 5.35293093e+03,\n",
       "           5.05030242e+03, 4.76468413e+03, 4.49512117e+03, 4.24071223e+03,\n",
       "           4.00060659e+03, 3.77400129e+03, 3.56013842e+03, 3.35830262e+03,\n",
       "           3.16781866e+03, 2.98804925e+03, 2.81839283e+03, 2.65828162e+03,\n",
       "           2.50717971e+03, 2.36458127e+03, 2.23000885e+03, 2.10301181e+03,\n",
       "           1.98316481e+03, 1.87006638e+03, 1.76333757e+03, 1.66262072e+03,\n",
       "           1.56757824e+03, 1.47789149e+03, 1.39325971e+03, 1.31339905e+03,\n",
       "           1.23804155e+03, 1.16693433e+03, 1.09983869e+03, 1.03652934e+03,\n",
       "           9.76793619e+02, 9.20430823e+02, 8.67251510e+02, 8.17076872e+02,\n",
       "           7.69738144e+02, 7.25076034e+02, 6.82940195e+02, 6.43188722e+02,\n",
       "           6.05687678e+02, 5.70310648e+02, 5.36938313e+02, 5.03610488e+02,\n",
       "           4.68580406e+02, 4.35929488e+02, 4.05497731e+02, 3.77135864e+02,\n",
       "           3.50704626e+02, 3.26074097e+02, 3.03123075e+02, 2.81738485e+02,\n",
       "           2.61814841e+02, 2.43253734e+02, 2.25963360e+02, 2.09858074e+02,\n",
       "           1.94857980e+02, 1.80888545e+02, 1.67880240e+02, 1.55768202e+02,\n",
       "           1.44491925e+02, 1.33994966e+02, 1.24224671e+02, 1.15131924e+02,\n",
       "           1.06670909e+02, 9.87988860e+01, 9.14759878e+01, 8.46650262e+01,\n",
       "           7.83313124e+01, 7.24424890e+01, 6.69683741e+01, 6.18808150e+01,\n",
       "           5.71535523e+01, 5.27620928e+01, 4.86835911e+01, 4.48967392e+01,\n",
       "           4.13816636e+01, 3.81198292e+01, 3.50939499e+01, 3.22879054e+01,\n",
       "           2.96866638e+01, 2.72762092e+01, 2.50434756e+01, 2.29762845e+01,\n",
       "           2.10632882e+01, 1.92939172e+01, 1.76583328e+01, 1.61473840e+01,\n",
       "           1.47525694e+01, 1.34660047e+01, 1.22803950e+01, 1.11890147e+01,\n",
       "           1.01856940e+01, 9.26481349e+00, 8.42130885e+00, 7.65068418e+00,\n",
       "           6.94903383e+00, 6.31306666e+00, 5.74012006e+00, 5.22813833e+00,\n",
       "           4.77557331e+00, 4.38115165e+00, 4.04346316e+00, 3.76038832e+00,\n",
       "           3.52851017e+00, 3.34277709e+00, 3.19665857e+00, 3.08279960e+00,\n",
       "           2.99389789e+00, 2.92344554e+00, 2.28011320e+00, 2.10727553e+00,\n",
       "           1.94725864e+00, 1.79869778e+00, 1.66043587e+00, 1.53149813e+00,\n",
       "           1.41106625e+00, 1.29845361e+00, 1.19308242e+00, 1.09446343e+00,\n",
       "           1.00217838e+00, 9.15865131e-01, 8.35205494e-01, 7.59915192e-01,\n",
       "           6.89735902e-01, 6.24428948e-01, 5.63770400e-01, 5.07547302e-01,\n",
       "           4.55554832e-01, 4.07594194e-01, 3.63471091e-01, 3.22994667e-01,\n",
       "           2.85976801e-01, 2.52231702e-01, 2.21575718e-01, 1.93827332e-01,\n",
       "           1.68807306e-01, 1.46338928e-01, 1.26248364e-01, 1.08365073e-01,\n",
       "           9.25222825e-02, 7.85575010e-02, 6.63130521e-02, 5.56366213e-02,\n",
       "           4.63817938e-02, 3.84085719e-02, 3.15838573e-02, 2.57818831e-02,\n",
       "           2.08845834e-02, 1.67818892e-02, 1.33719393e-02, 1.05612010e-02,\n",
       "           8.26449364e-03, 6.40491396e-03, 4.91366525e-03, 3.72979314e-03,\n",
       "           2.79983661e-03, 2.07740381e-03, 1.52268538e-03, 1.10191950e-03,\n",
       "           7.86823911e-04, 5.54010988e-04, 3.84400998e-04, 2.62648228e-04,\n",
       "           1.76592628e-04, 1.16747650e-04, 7.58324216e-05, 4.83537597e-05,\n",
       "           3.02408719e-05, 1.85331543e-05, 1.11193338e-05, 6.52448612e-06,\n",
       "           3.74020203e-06, 2.09240864e-06, 1.14103638e-06, 6.05799881e-07,\n",
       "           3.12741787e-07, 1.56781214e-07, 7.62167868e-08, 3.58776805e-08,\n",
       "           1.63287877e-08, 7.17376046e-09, 3.03723135e-09, 1.23705038e-09,\n",
       "           4.83815663e-10, 1.81352013e-10, 6.50192950e-11, 2.22497835e-11,\n",
       "           7.25130220e-12, 2.24548768e-12, 6.59113456e-13, 1.82921710e-13,\n",
       "           4.78712372e-14, 1.17810146e-14, 2.71848332e-15, 5.86386782e-16,\n",
       "           1.17861033e-16, 2.20005953e-17, 3.80064852e-18, 6.05409446e-19,\n",
       "           8.85814494e-20, 1.18575122e-20, 1.44601959e-21, 1.59945026e-22,\n",
       "           1.59727222e-23, 1.43317641e-24, 1.14956754e-25, 8.19938199e-27,\n",
       "           5.17164022e-28, 2.86781278e-29, 1.38964518e-30, 5.84679623e-32,\n",
       "           2.12174006e-33, 6.59460352e-35, 1.74271331e-36, 3.88572394e-38] K>"
      ]
     },
     "execution_count": 10,
     "metadata": {},
     "output_type": "execute_result"
    }
   ],
   "source": [
    "T_vis_weakDW(T_req, Σ_initial(r_au))"
   ]
  },
  {
   "cell_type": "code",
   "execution_count": 11,
   "metadata": {},
   "outputs": [
    {
     "data": {
      "text/latex": [
       "$[2800,~2736.0535,~2673.5674,~\\dots,~2.9324115,~2.865441,~2.8] \\; \\mathrm{K}$"
      ],
      "text/plain": [
       "<Quantity [2800.        , 2736.05350835, 2673.56742878, 2612.50840833,\n",
       "           2552.8438558 , 2494.54192426, 2437.57149415, 2381.90215658,\n",
       "           2327.50419717, 2274.34858013, 2222.40693282, 2171.65153055,\n",
       "           2122.05528182, 2073.59171383, 2026.2349584 , 1979.9597381 ,\n",
       "           1934.7413528 , 1890.55566646, 1847.37909427, 1805.18859005,\n",
       "           1763.96163395, 1723.67622042, 1684.31084648, 1645.84450024,\n",
       "           1608.25664967, 1571.52723167, 1535.63664131, 1500.56572144,\n",
       "           1466.29575238, 1432.80844199, 1400.0859159 , 1368.11070792,\n",
       "           1336.8657508 , 1306.33436703, 1276.50025999, 1247.34750528,\n",
       "           1218.86054212, 1191.02416517, 1163.8235163 , 1137.24407675,\n",
       "           1111.2716593 , 1085.89240077, 1061.09275458, 1036.85948352,\n",
       "           1013.1796527 ,  990.04062263,  967.43004249,  945.33584351,\n",
       "            923.74623258,  902.64968588,  882.03494281,  861.89099992,\n",
       "            842.20710505,  822.97275162,  804.17767298,  785.81183697,\n",
       "            767.86544051,  750.32890445,  733.19286837,  716.44818565,\n",
       "            700.08591853,  684.09733341,  668.47389612,  653.2072674 ,\n",
       "            638.28929845,  623.71202656,  609.46767088,  595.54862827,\n",
       "            581.9474692 ,  568.65693385,  555.66992819,  542.97952018,\n",
       "            530.57893612,  518.46155702,  506.62091501,  495.05068997,\n",
       "            483.74470611,  472.69692868,  461.90146075,  451.35254007,\n",
       "            441.04453599,  430.97194644,  421.12939502,  411.51162811,\n",
       "            402.11351208,  392.93003053,  383.95628163,  375.1874755 ,\n",
       "            366.61893166,  358.2460765 ,  350.06444088,  342.06965772,\n",
       "            334.25745968,  326.62367688,  319.16423465,  311.87515142,\n",
       "            304.7525365 ,  297.7925881 ,  290.99159122,  284.34591574,\n",
       "            277.85201441,  271.50642101,  265.30574848,  259.24668711,\n",
       "            253.32600279,  247.54053524,  241.8871964 ,  236.36296869,\n",
       "            230.96490347,  225.69011945,  220.53580111,  215.49919727,\n",
       "            210.57761955,  205.76844098,  201.06909459,  196.47707203,\n",
       "            191.98992223,  187.6052501 ,  183.32071526,  179.13403076,\n",
       "            175.0429619 ,  171.04532501,  167.13898628,  163.32186064,\n",
       "            159.59191064,  155.94714536,  152.38561935,  148.90543159,\n",
       "            145.50472447,  142.18168281,  138.93453288,  135.76154147,\n",
       "            132.66101495,  129.63129835,  126.67077451,  123.77786322,\n",
       "            120.95102033,  118.18873696,  115.48953872,  112.85198486,\n",
       "            110.27466753,  107.75621107,  105.29527119,  102.89053434,\n",
       "            100.54071695,   98.24456477,   96.00085218,   93.80838158,\n",
       "             91.66598269,   89.57251197,   87.52685201,   85.5279109 ,\n",
       "             83.57462167,   81.66594173,   79.80085228,   77.9783578 ,\n",
       "             76.19748551,   74.45728485,   72.75682694,   71.09520414,\n",
       "             69.47152954,   67.88493648,   66.33457808,   64.81962681,\n",
       "             63.33927405,   61.89272964,   60.47922145,   59.09799501,\n",
       "             57.74831307,   56.42945521,   55.14071746,   53.88141195,\n",
       "             52.6508665 ,   51.44842429,   50.27344349,   49.12529694,\n",
       "             48.0033718 ,   46.90706923,   45.83580405,   44.78900445,\n",
       "             43.7661117 ,   42.76657981,   41.78987526,   40.83547672,\n",
       "             39.90287477,   38.99157161,   38.10108082,   37.23092709,\n",
       "             36.38064596,   35.54978357,   34.73789645,   33.94455124,\n",
       "             33.16932447,   32.41180235,   31.67158054,   30.94826395,\n",
       "             30.24146649,   29.55081089,   28.8759285 ,   28.2164591 ,\n",
       "             27.57205068,   26.94235929,   26.3270488 ,   25.7257908 ,\n",
       "             25.13826435,   24.56415584,   24.00315885,   23.45497392,\n",
       "             22.91930846,   22.39587654,   21.88439878,   21.38460217,\n",
       "             20.89621992,   20.41899137,   19.95266177,   19.49698223,\n",
       "             19.05170951,   18.61660595,   18.19143929,   17.77598261,\n",
       "             17.37001413,   16.97331718,   16.58568001,   16.20689571,\n",
       "             15.83676209,   15.4750816 ,   15.12166118,   14.77631219,\n",
       "             14.43885029,   14.10909535,   13.78687137,   13.47200635,\n",
       "             13.16433223,   12.86368478,   12.56990352,   12.28283165,\n",
       "             12.00231594,   11.72820666,   11.46035749,   11.19862547,\n",
       "             10.9428709 ,   10.69295725,   10.44875115,   10.21012222,\n",
       "              9.97694312,    9.74908937,    9.52643934,    9.30887421,\n",
       "              9.09627784,    8.88853675,    8.68554005,    8.4871794 ,\n",
       "              8.29334892,    8.10394515,    7.91886698,    7.73801564,\n",
       "              7.56129459,    7.38860949,    7.21986819,    7.0549806 ,\n",
       "              6.89385872,    6.73641655,    6.58257005,    6.4322371 ,\n",
       "              6.28533746,    6.14179272,    6.00152625,    5.8644632 ,\n",
       "              5.7305304 ,    5.59965636,    5.47177122,    5.34680673,\n",
       "              5.22469618,    5.1053744 ,    4.98877769,    4.87484383,\n",
       "              4.76351198,    4.65472274,    4.54841803,    4.44454111,\n",
       "              4.34303654,    4.24385012,    4.14692894,    4.05222124,\n",
       "              3.95967648,    3.86924526,    3.78087931,    3.69453146,\n",
       "              3.61015563,    3.52770678,    3.44714089,    3.36841498,\n",
       "              3.29148701,    3.21631592,    3.14286159,    3.07108481,\n",
       "              3.00094728,    2.93241155,    2.86544104,    2.8       ] K>"
      ]
     },
     "execution_count": 11,
     "metadata": {},
     "output_type": "execute_result"
    }
   ],
   "source": [
    "T_req"
   ]
  },
  {
   "cell_type": "code",
   "execution_count": 17,
   "metadata": {},
   "outputs": [
    {
     "data": {
      "text/plain": [
       "Text(0.5, 0, 'r [AU]')"
      ]
     },
     "execution_count": 17,
     "metadata": {},
     "output_type": "execute_result"
    },
    {
     "data": {
      "image/png": "[encoded data removed]",
      "text/plain": [
       "<Figure size 432x288 with 1 Axes>"
      ]
     },
     "metadata": {
      "needs_background": "light"
     },
     "output_type": "display_data"
    }
   ],
   "source": [
    "plt.loglog(r, T_vis_weakDW(T_req, Σ_initial(r_au)))\n",
    "plt.ylabel('T vicsous'+f' [{T_vis_weakDW(T_req, Σ_initial(r_au)).unit}]')\n",
    "#plt.ylim(1e-3, 1e3)\n",
    "plt.xlabel(f'r [{r_au.unit}]')"
   ]
  },
  {
   "cell_type": "code",
   "execution_count": 13,
   "metadata": {},
   "outputs": [
    {
     "data": {
      "text/latex": [
       "$[1.3260818 \\times 10^{16},~1.1280526 \\times 10^{16},~9.595952 \\times 10^{15},~\\dots,~1.8912753 \\times 10^{-137},~9.2236708 \\times 10^{-144},~2.2797529 \\times 10^{-150}] \\; \\mathrm{K^{4}}$"
      ],
      "text/plain": [
       "<Quantity [1.32608178e+016, 1.12805260e+016, 9.59595197e+015,\n",
       "           8.16293697e+015, 6.94391611e+015, 5.90693397e+015,\n",
       "           5.02480691e+015, 4.27441053e+015, 3.63607353e+015,\n",
       "           3.09306207e+015, 2.63114114e+015, 2.23820141e+015,\n",
       "           1.90394181e+015, 1.61959952e+015, 1.37772025e+015,\n",
       "           1.17196288e+015, 9.96933182e+014, 8.48042464e+014,\n",
       "           7.21387261e+014, 6.13647019e+014, 5.21997045e+014,\n",
       "           4.44034466e+014, 3.77715236e+014, 3.21300551e+014,\n",
       "           2.73311271e+014, 2.32489144e+014, 1.97763815e+014,\n",
       "           1.68224776e+014, 7.06591993e+020, 5.60769439e+020,\n",
       "           4.45038518e+020, 3.53189995e+020, 2.80295802e+020,\n",
       "           2.22444711e+020, 1.76532525e+020, 1.40095572e+020,\n",
       "           1.11178540e+020, 8.82295905e+019, 7.00171039e+019,\n",
       "           5.55636088e+019, 4.40933401e+019, 3.49906191e+019,\n",
       "           2.77668200e+019, 2.20341528e+019, 1.74848561e+019,\n",
       "           1.38746822e+019, 1.10097912e+019, 8.73634831e+018,\n",
       "           6.93226850e+018, 5.50066415e+018, 4.36464509e+018,\n",
       "           3.46319153e+018, 2.74787872e+018, 2.18027752e+018,\n",
       "           1.72989139e+018, 1.37251912e+018, 1.08895547e+018,\n",
       "           8.63959957e+017, 6.85438509e+017, 5.43793947e+017,\n",
       "           4.31410584e+017, 3.42245173e+017, 2.71502299e+017,\n",
       "           2.15376762e+017, 1.70849148e+017, 1.35523588e+017,\n",
       "           1.07499021e+017, 8.52670178e+016, 6.76307143e+016,\n",
       "           5.36404686e+016, 4.25428090e+016, 3.37399211e+016,\n",
       "           2.67574994e+016, 2.12192372e+016, 1.68265848e+016,\n",
       "           1.33426872e+016, 1.05796391e+016, 8.38837210e+015,\n",
       "           6.65063066e+015, 5.27260520e+015, 4.17988069e+015,\n",
       "           3.31342846e+015, 2.62642628e+015, 2.08173528e+015,\n",
       "           1.64989826e+015, 1.30755165e+015, 1.03616554e+015,\n",
       "           8.21044242e+014, 6.50533312e+014, 5.15390560e+014,\n",
       "           4.08287056e+014, 3.23411315e+014, 2.56155323e+014,\n",
       "           2.02865491e+014, 1.60645119e+014, 1.27197715e+014,\n",
       "           1.00702732e+014, 7.97170109e+013, 6.30966209e+013,\n",
       "           4.99348736e+013, 3.95131687e+013, 3.12620158e+013,\n",
       "           2.47301269e+013, 1.95599098e+013, 1.54680381e+013,\n",
       "           1.22300459e+013, 9.66811570e+012, 7.64139676e+012,\n",
       "           6.03833078e+012, 4.77056907e+012, 3.76815116e+012,\n",
       "           2.97568383e+012, 2.34931300e+012, 1.85432421e+012,\n",
       "           1.46324140e+012, 1.15432047e+012, 9.10355994e+011,\n",
       "           7.17735811e+011, 5.65692288e+011, 4.45709274e+011,\n",
       "           3.51052470e+011, 2.76397559e+011, 2.17535779e+011,\n",
       "           1.71140850e+011, 1.34584472e+011, 1.05790317e+011,\n",
       "           8.31184769e+010, 6.43248916e+010, 4.82099294e+010,\n",
       "           3.61131181e+010, 2.70367020e+010, 2.02297882e+010,\n",
       "           1.51274588e+010, 1.13048604e+010, 8.44259567e+009,\n",
       "           6.30064047e+009, 4.69869271e+009, 3.50137047e+009,\n",
       "           2.60706642e+009, 1.93955782e+009, 1.44169298e+009,\n",
       "           1.07064197e+009, 7.94325164e+008, 5.88728724e+008,\n",
       "           4.35887393e+008, 3.22369486e+008, 2.38139491e+008,\n",
       "           1.75704569e+008, 1.29474423e+008, 9.52814133e+007,\n",
       "           7.00210197e+007, 5.13826133e+007, 3.76479741e+007,\n",
       "           2.75406036e+007, 2.01131004e+007, 1.46630427e+007,\n",
       "           1.06702087e+007, 7.74975643e+006, 5.61733628e+006,\n",
       "           4.06311580e+006, 2.93245789e+006, 2.11156175e+006,\n",
       "           1.51680241e+006, 1.08682468e+006, 7.76686174e+005,\n",
       "           5.53523483e+005, 3.93349320e+005, 2.78688598e+005,\n",
       "           1.96836066e+005, 1.38573963e+005, 9.72296646e+004,\n",
       "           6.79843094e+004, 4.73664318e+004, 3.28817593e+004,\n",
       "           2.27430835e+004, 1.56735504e+004, 1.07637226e+004,\n",
       "           7.36795093e+003, 5.02942552e+003, 3.42610839e+003,\n",
       "           2.33183440e+003, 1.58840594e+003, 1.08563517e+003,\n",
       "           7.47116418e+002, 5.20118216e+002, 3.68428438e+002,\n",
       "           2.67309234e+002, 1.99954316e+002, 1.55012061e+002,\n",
       "           1.24861822e+002, 1.04420318e+002, 9.03194277e+001,\n",
       "           8.03429802e+001, 7.30432405e+001, 2.70287296e+001,\n",
       "           1.97190184e+001, 1.43778701e+001, 1.04672548e+001,\n",
       "           7.60130976e+000, 5.50130700e+000, 3.96451088e+000,\n",
       "           2.84253451e+000, 2.02619755e+000, 1.43484513e+000,\n",
       "           1.00874201e+000, 7.03600434e-001, 4.86601418e-001,\n",
       "           3.33472870e-001, 2.26324374e-001, 1.52030987e-001,\n",
       "           1.01020399e-001, 6.63599566e-002, 4.30687859e-002,\n",
       "           2.76001825e-002, 1.74533782e-002, 1.08838214e-002,\n",
       "           6.68841508e-003, 4.04761021e-003, 2.41039745e-003,\n",
       "           1.41143237e-003, 8.12016688e-004, 4.58605729e-004,\n",
       "           2.54040542e-004, 1.37897790e-004, 7.32799818e-005,\n",
       "           3.80847086e-005, 1.93373104e-005, 9.58170937e-006,\n",
       "           4.62796602e-006, 2.17626931e-006, 9.95086136e-007,\n",
       "           4.41833396e-007, 1.90240627e-007, 7.93164731e-008,\n",
       "           3.19725730e-008, 1.24409413e-008, 4.66514341e-009,\n",
       "           1.68288020e-009, 5.82937864e-010, 1.93525851e-010,\n",
       "           6.14512544e-011, 1.86244601e-011, 5.37577043e-012,\n",
       "           1.47434617e-012, 3.83274741e-013, 9.42049043e-014,\n",
       "           2.18342372e-014, 4.75880489e-015, 9.72501500e-016,\n",
       "           1.85777275e-016, 3.30688962e-017, 5.46664649e-018,\n",
       "           8.36329153e-019, 1.17977005e-019, 1.52867468e-020,\n",
       "           1.81211287e-021, 1.95695234e-022, 1.91684068e-023,\n",
       "           1.69511033e-024, 1.34684226e-025, 9.56629243e-027,\n",
       "           6.04193565e-028, 3.37444646e-029, 1.65690433e-030,\n",
       "           7.10911879e-032, 2.64842381e-033, 8.50964606e-035,\n",
       "           2.34179864e-036, 5.47923208e-038, 1.08165690e-039,\n",
       "           1.78718300e-041, 2.45077338e-043, 2.76480190e-045,\n",
       "           2.54239311e-047, 1.88729901e-049, 1.11959514e-051,\n",
       "           5.25168426e-054, 1.92633037e-056, 5.46143397e-059,\n",
       "           1.18232450e-061, 1.92966077e-064, 2.34281358e-067,\n",
       "           2.08655978e-070, 1.34337348e-073, 6.15702800e-077,\n",
       "           1.97685275e-080, 4.37216661e-084, 6.54459773e-088,\n",
       "           6.50902214e-092, 4.21889388e-096, 1.74637689e-100,\n",
       "           4.51985476e-105, 7.15341165e-110, 6.76399357e-115,\n",
       "           3.72920026e-120, 1.16861601e-125, 2.02660312e-131,\n",
       "           1.89127535e-137, 9.22367076e-144, 2.27975288e-150] K4>"
      ]
     },
     "execution_count": 13,
     "metadata": {},
     "output_type": "execute_result"
    }
   ],
   "source": [
    "T_vis_weakDW(T_req, Σ_initial(r_au))**4"
   ]
  },
  {
   "cell_type": "code",
   "execution_count": 14,
   "metadata": {},
   "outputs": [
    {
     "ename": "UnitConversionError",
     "evalue": "Can only apply 'add' function to quantities with compatible dimensions",
     "output_type": "error",
     "traceback": [
      "\u001b[1;31m---------------------------------------------------------------------------\u001b[0m",
      "\u001b[1;31mUnitConversionError\u001b[0m                       Traceback (most recent call last)",
      "\u001b[1;32m~\\anaconda3\\lib\\site-packages\\astropy\\units\\quantity_helper\\helpers.py\u001b[0m in \u001b[0;36mget_converters_and_unit\u001b[1;34m(f, unit1, unit2)\u001b[0m\n\u001b[0;32m     67\u001b[0m         \u001b[1;32mtry\u001b[0m\u001b[1;33m:\u001b[0m\u001b[1;33m\u001b[0m\u001b[1;33m\u001b[0m\u001b[0m\n\u001b[1;32m---> 68\u001b[1;33m             \u001b[0mconverters\u001b[0m\u001b[1;33m[\u001b[0m\u001b[0mchangeable\u001b[0m\u001b[1;33m]\u001b[0m \u001b[1;33m=\u001b[0m \u001b[0mget_converter\u001b[0m\u001b[1;33m(\u001b[0m\u001b[0munit2\u001b[0m\u001b[1;33m,\u001b[0m \u001b[0munit1\u001b[0m\u001b[1;33m)\u001b[0m\u001b[1;33m\u001b[0m\u001b[1;33m\u001b[0m\u001b[0m\n\u001b[0m\u001b[0;32m     69\u001b[0m         \u001b[1;32mexcept\u001b[0m \u001b[0mUnitsError\u001b[0m\u001b[1;33m:\u001b[0m\u001b[1;33m\u001b[0m\u001b[1;33m\u001b[0m\u001b[0m\n",
      "\u001b[1;32m~\\anaconda3\\lib\\site-packages\\astropy\\units\\quantity_helper\\helpers.py\u001b[0m in \u001b[0;36mget_converter\u001b[1;34m(from_unit, to_unit)\u001b[0m\n\u001b[0;32m     31\u001b[0m     i.e., if the inferred scale is unity.\"\"\"\n\u001b[1;32m---> 32\u001b[1;33m     \u001b[0mconverter\u001b[0m \u001b[1;33m=\u001b[0m \u001b[0mfrom_unit\u001b[0m\u001b[1;33m.\u001b[0m\u001b[0m_get_converter\u001b[0m\u001b[1;33m(\u001b[0m\u001b[0mto_unit\u001b[0m\u001b[1;33m)\u001b[0m\u001b[1;33m\u001b[0m\u001b[1;33m\u001b[0m\u001b[0m\n\u001b[0m\u001b[0;32m     33\u001b[0m     \u001b[1;32mreturn\u001b[0m \u001b[1;32mNone\u001b[0m \u001b[1;32mif\u001b[0m \u001b[0mconverter\u001b[0m \u001b[1;32mis\u001b[0m \u001b[0munit_scale_converter\u001b[0m \u001b[1;32melse\u001b[0m \u001b[0mconverter\u001b[0m\u001b[1;33m\u001b[0m\u001b[1;33m\u001b[0m\u001b[0m\n",
      "\u001b[1;32m~\\anaconda3\\lib\\site-packages\\astropy\\units\\core.py\u001b[0m in \u001b[0;36m_get_converter\u001b[1;34m(self, other, equivalencies)\u001b[0m\n\u001b[0;32m   1063\u001b[0m \u001b[1;33m\u001b[0m\u001b[0m\n\u001b[1;32m-> 1064\u001b[1;33m             \u001b[1;32mraise\u001b[0m \u001b[0mexc\u001b[0m\u001b[1;33m\u001b[0m\u001b[1;33m\u001b[0m\u001b[0m\n\u001b[0m\u001b[0;32m   1065\u001b[0m \u001b[1;33m\u001b[0m\u001b[0m\n",
      "\u001b[1;32m~\\anaconda3\\lib\\site-packages\\astropy\\units\\core.py\u001b[0m in \u001b[0;36m_get_converter\u001b[1;34m(self, other, equivalencies)\u001b[0m\n\u001b[0;32m   1048\u001b[0m         \u001b[1;32mtry\u001b[0m\u001b[1;33m:\u001b[0m\u001b[1;33m\u001b[0m\u001b[1;33m\u001b[0m\u001b[0m\n\u001b[1;32m-> 1049\u001b[1;33m             return self._apply_equivalencies(\n\u001b[0m\u001b[0;32m   1050\u001b[0m                 self, other, self._normalize_equivalencies(equivalencies))\n",
      "\u001b[1;32m~\\anaconda3\\lib\\site-packages\\astropy\\units\\core.py\u001b[0m in \u001b[0;36m_apply_equivalencies\u001b[1;34m(self, unit, other, equivalencies)\u001b[0m\n\u001b[0;32m   1024\u001b[0m \u001b[1;33m\u001b[0m\u001b[0m\n\u001b[1;32m-> 1025\u001b[1;33m         raise UnitConversionError(\n\u001b[0m\u001b[0;32m   1026\u001b[0m             f\"{unit_str} and {other_str} are not convertible\")\n",
      "\u001b[1;31mUnitConversionError\u001b[0m: 'AU g m / (cm2 K(1/2) s3)' and 'g m2 / (cm2 K s3)' are not convertible",
      "\nDuring handling of the above exception, another exception occurred:\n",
      "\u001b[1;31mUnitConversionError\u001b[0m                       Traceback (most recent call last)",
      "\u001b[1;32m~\\AppData\\Local\\Temp/ipykernel_8304/1186706921.py\u001b[0m in \u001b[0;36m<module>\u001b[1;34m\u001b[0m\n\u001b[1;32m----> 1\u001b[1;33m \u001b[0mres3\u001b[0m \u001b[1;33m=\u001b[0m \u001b[0mfsolve\u001b[0m\u001b[1;33m(\u001b[0m\u001b[1;32mlambda\u001b[0m \u001b[0mT\u001b[0m\u001b[1;33m:\u001b[0m \u001b[1;33m(\u001b[0m\u001b[0mT_vis_weakDW\u001b[0m\u001b[1;33m(\u001b[0m\u001b[0mT\u001b[0m\u001b[1;33m,\u001b[0m \u001b[0mΣ_initial\u001b[0m\u001b[1;33m(\u001b[0m\u001b[0mr_au\u001b[0m\u001b[1;33m)\u001b[0m\u001b[1;33m)\u001b[0m\u001b[1;33m.\u001b[0m\u001b[0mvalue\u001b[0m\u001b[1;33m**\u001b[0m\u001b[1;36m4\u001b[0m \u001b[1;33m+\u001b[0m \u001b[0mT_req\u001b[0m\u001b[1;33m.\u001b[0m\u001b[0mvalue\u001b[0m\u001b[1;33m**\u001b[0m\u001b[1;36m4\u001b[0m \u001b[1;33m-\u001b[0m \u001b[0mT\u001b[0m\u001b[1;33m**\u001b[0m\u001b[1;36m4\u001b[0m\u001b[1;33m)\u001b[0m\u001b[1;33m,\u001b[0m \u001b[0mx0\u001b[0m \u001b[1;33m=\u001b[0m \u001b[0mT_req\u001b[0m\u001b[1;33m.\u001b[0m\u001b[0mvalue\u001b[0m\u001b[1;33m)\u001b[0m\u001b[1;33m\u001b[0m\u001b[1;33m\u001b[0m\u001b[0m\n\u001b[0m",
      "\u001b[1;32m~\\anaconda3\\lib\\site-packages\\scipy\\optimize\\minpack.py\u001b[0m in \u001b[0;36mfsolve\u001b[1;34m(func, x0, args, fprime, full_output, col_deriv, xtol, maxfev, band, epsfcn, factor, diag)\u001b[0m\n\u001b[0;32m    158\u001b[0m                'diag': diag}\n\u001b[0;32m    159\u001b[0m \u001b[1;33m\u001b[0m\u001b[0m\n\u001b[1;32m--> 160\u001b[1;33m     \u001b[0mres\u001b[0m \u001b[1;33m=\u001b[0m \u001b[0m_root_hybr\u001b[0m\u001b[1;33m(\u001b[0m\u001b[0mfunc\u001b[0m\u001b[1;33m,\u001b[0m \u001b[0mx0\u001b[0m\u001b[1;33m,\u001b[0m \u001b[0margs\u001b[0m\u001b[1;33m,\u001b[0m \u001b[0mjac\u001b[0m\u001b[1;33m=\u001b[0m\u001b[0mfprime\u001b[0m\u001b[1;33m,\u001b[0m \u001b[1;33m**\u001b[0m\u001b[0moptions\u001b[0m\u001b[1;33m)\u001b[0m\u001b[1;33m\u001b[0m\u001b[1;33m\u001b[0m\u001b[0m\n\u001b[0m\u001b[0;32m    161\u001b[0m     \u001b[1;32mif\u001b[0m \u001b[0mfull_output\u001b[0m\u001b[1;33m:\u001b[0m\u001b[1;33m\u001b[0m\u001b[1;33m\u001b[0m\u001b[0m\n\u001b[0;32m    162\u001b[0m         \u001b[0mx\u001b[0m \u001b[1;33m=\u001b[0m \u001b[0mres\u001b[0m\u001b[1;33m[\u001b[0m\u001b[1;34m'x'\u001b[0m\u001b[1;33m]\u001b[0m\u001b[1;33m\u001b[0m\u001b[1;33m\u001b[0m\u001b[0m\n",
      "\u001b[1;32m~\\anaconda3\\lib\\site-packages\\scipy\\optimize\\minpack.py\u001b[0m in \u001b[0;36m_root_hybr\u001b[1;34m(func, x0, args, jac, col_deriv, xtol, maxfev, band, eps, factor, diag, **unknown_options)\u001b[0m\n\u001b[0;32m    224\u001b[0m     \u001b[1;32mif\u001b[0m \u001b[1;32mnot\u001b[0m \u001b[0misinstance\u001b[0m\u001b[1;33m(\u001b[0m\u001b[0margs\u001b[0m\u001b[1;33m,\u001b[0m \u001b[0mtuple\u001b[0m\u001b[1;33m)\u001b[0m\u001b[1;33m:\u001b[0m\u001b[1;33m\u001b[0m\u001b[1;33m\u001b[0m\u001b[0m\n\u001b[0;32m    225\u001b[0m         \u001b[0margs\u001b[0m \u001b[1;33m=\u001b[0m \u001b[1;33m(\u001b[0m\u001b[0margs\u001b[0m\u001b[1;33m,\u001b[0m\u001b[1;33m)\u001b[0m\u001b[1;33m\u001b[0m\u001b[1;33m\u001b[0m\u001b[0m\n\u001b[1;32m--> 226\u001b[1;33m     \u001b[0mshape\u001b[0m\u001b[1;33m,\u001b[0m \u001b[0mdtype\u001b[0m \u001b[1;33m=\u001b[0m \u001b[0m_check_func\u001b[0m\u001b[1;33m(\u001b[0m\u001b[1;34m'fsolve'\u001b[0m\u001b[1;33m,\u001b[0m \u001b[1;34m'func'\u001b[0m\u001b[1;33m,\u001b[0m \u001b[0mfunc\u001b[0m\u001b[1;33m,\u001b[0m \u001b[0mx0\u001b[0m\u001b[1;33m,\u001b[0m \u001b[0margs\u001b[0m\u001b[1;33m,\u001b[0m \u001b[0mn\u001b[0m\u001b[1;33m,\u001b[0m \u001b[1;33m(\u001b[0m\u001b[0mn\u001b[0m\u001b[1;33m,\u001b[0m\u001b[1;33m)\u001b[0m\u001b[1;33m)\u001b[0m\u001b[1;33m\u001b[0m\u001b[1;33m\u001b[0m\u001b[0m\n\u001b[0m\u001b[0;32m    227\u001b[0m     \u001b[1;32mif\u001b[0m \u001b[0mepsfcn\u001b[0m \u001b[1;32mis\u001b[0m \u001b[1;32mNone\u001b[0m\u001b[1;33m:\u001b[0m\u001b[1;33m\u001b[0m\u001b[1;33m\u001b[0m\u001b[0m\n\u001b[0;32m    228\u001b[0m         \u001b[0mepsfcn\u001b[0m \u001b[1;33m=\u001b[0m \u001b[0mfinfo\u001b[0m\u001b[1;33m(\u001b[0m\u001b[0mdtype\u001b[0m\u001b[1;33m)\u001b[0m\u001b[1;33m.\u001b[0m\u001b[0meps\u001b[0m\u001b[1;33m\u001b[0m\u001b[1;33m\u001b[0m\u001b[0m\n",
      "\u001b[1;32m~\\anaconda3\\lib\\site-packages\\scipy\\optimize\\minpack.py\u001b[0m in \u001b[0;36m_check_func\u001b[1;34m(checker, argname, thefunc, x0, args, numinputs, output_shape)\u001b[0m\n\u001b[0;32m     22\u001b[0m def _check_func(checker, argname, thefunc, x0, args, numinputs,\n\u001b[0;32m     23\u001b[0m                 output_shape=None):\n\u001b[1;32m---> 24\u001b[1;33m     \u001b[0mres\u001b[0m \u001b[1;33m=\u001b[0m \u001b[0matleast_1d\u001b[0m\u001b[1;33m(\u001b[0m\u001b[0mthefunc\u001b[0m\u001b[1;33m(\u001b[0m\u001b[1;33m*\u001b[0m\u001b[1;33m(\u001b[0m\u001b[1;33m(\u001b[0m\u001b[0mx0\u001b[0m\u001b[1;33m[\u001b[0m\u001b[1;33m:\u001b[0m\u001b[0mnuminputs\u001b[0m\u001b[1;33m]\u001b[0m\u001b[1;33m,\u001b[0m\u001b[1;33m)\u001b[0m \u001b[1;33m+\u001b[0m \u001b[0margs\u001b[0m\u001b[1;33m)\u001b[0m\u001b[1;33m)\u001b[0m\u001b[1;33m)\u001b[0m\u001b[1;33m\u001b[0m\u001b[1;33m\u001b[0m\u001b[0m\n\u001b[0m\u001b[0;32m     25\u001b[0m     \u001b[1;32mif\u001b[0m \u001b[1;33m(\u001b[0m\u001b[0moutput_shape\u001b[0m \u001b[1;32mis\u001b[0m \u001b[1;32mnot\u001b[0m \u001b[1;32mNone\u001b[0m\u001b[1;33m)\u001b[0m \u001b[1;32mand\u001b[0m \u001b[1;33m(\u001b[0m\u001b[0mshape\u001b[0m\u001b[1;33m(\u001b[0m\u001b[0mres\u001b[0m\u001b[1;33m)\u001b[0m \u001b[1;33m!=\u001b[0m \u001b[0moutput_shape\u001b[0m\u001b[1;33m)\u001b[0m\u001b[1;33m:\u001b[0m\u001b[1;33m\u001b[0m\u001b[1;33m\u001b[0m\u001b[0m\n\u001b[0;32m     26\u001b[0m         \u001b[1;32mif\u001b[0m \u001b[1;33m(\u001b[0m\u001b[0moutput_shape\u001b[0m\u001b[1;33m[\u001b[0m\u001b[1;36m0\u001b[0m\u001b[1;33m]\u001b[0m \u001b[1;33m!=\u001b[0m \u001b[1;36m1\u001b[0m\u001b[1;33m)\u001b[0m\u001b[1;33m:\u001b[0m\u001b[1;33m\u001b[0m\u001b[1;33m\u001b[0m\u001b[0m\n",
      "\u001b[1;32m~\\AppData\\Local\\Temp/ipykernel_8304/1186706921.py\u001b[0m in \u001b[0;36m<lambda>\u001b[1;34m(T)\u001b[0m\n\u001b[1;32m----> 1\u001b[1;33m \u001b[0mres3\u001b[0m \u001b[1;33m=\u001b[0m \u001b[0mfsolve\u001b[0m\u001b[1;33m(\u001b[0m\u001b[1;32mlambda\u001b[0m \u001b[0mT\u001b[0m\u001b[1;33m:\u001b[0m \u001b[1;33m(\u001b[0m\u001b[0mT_vis_weakDW\u001b[0m\u001b[1;33m(\u001b[0m\u001b[0mT\u001b[0m\u001b[1;33m,\u001b[0m \u001b[0mΣ_initial\u001b[0m\u001b[1;33m(\u001b[0m\u001b[0mr_au\u001b[0m\u001b[1;33m)\u001b[0m\u001b[1;33m)\u001b[0m\u001b[1;33m.\u001b[0m\u001b[0mvalue\u001b[0m\u001b[1;33m**\u001b[0m\u001b[1;36m4\u001b[0m \u001b[1;33m+\u001b[0m \u001b[0mT_req\u001b[0m\u001b[1;33m.\u001b[0m\u001b[0mvalue\u001b[0m\u001b[1;33m**\u001b[0m\u001b[1;36m4\u001b[0m \u001b[1;33m-\u001b[0m \u001b[0mT\u001b[0m\u001b[1;33m**\u001b[0m\u001b[1;36m4\u001b[0m\u001b[1;33m)\u001b[0m\u001b[1;33m,\u001b[0m \u001b[0mx0\u001b[0m \u001b[1;33m=\u001b[0m \u001b[0mT_req\u001b[0m\u001b[1;33m.\u001b[0m\u001b[0mvalue\u001b[0m\u001b[1;33m)\u001b[0m\u001b[1;33m\u001b[0m\u001b[1;33m\u001b[0m\u001b[0m\n\u001b[0m",
      "\u001b[1;32m~\\AppData\\Local\\Temp/ipykernel_8304/3317474573.py\u001b[0m in \u001b[0;36mT_vis_weakDW\u001b[1;34m(T, Σ)\u001b[0m\n\u001b[0;32m      1\u001b[0m \u001b[1;32mdef\u001b[0m \u001b[0mT_vis_weakDW\u001b[0m\u001b[1;33m(\u001b[0m\u001b[0mT\u001b[0m\u001b[1;33m,\u001b[0m \u001b[0mΣ\u001b[0m\u001b[1;33m)\u001b[0m\u001b[1;33m:\u001b[0m\u001b[1;33m\u001b[0m\u001b[1;33m\u001b[0m\u001b[0m\n\u001b[1;32m----> 2\u001b[1;33m     \u001b[1;32mreturn\u001b[0m \u001b[1;33m(\u001b[0m\u001b[1;33m(\u001b[0m\u001b[1;36m0.5\u001b[0m \u001b[1;33m*\u001b[0m \u001b[0msigma_sb\u001b[0m\u001b[1;33m**\u001b[0m\u001b[1;33m(\u001b[0m\u001b[1;33m-\u001b[0m\u001b[1;36m1\u001b[0m\u001b[1;33m)\u001b[0m \u001b[1;33m*\u001b[0m \u001b[1;33m(\u001b[0m\u001b[1;36m3\u001b[0m\u001b[1;33m/\u001b[0m\u001b[1;36m8\u001b[0m \u001b[1;33m*\u001b[0m \u001b[0mtau_R\u001b[0m\u001b[1;33m(\u001b[0m\u001b[0mT\u001b[0m\u001b[1;33m,\u001b[0m \u001b[0mΣ\u001b[0m\u001b[1;33m)\u001b[0m \u001b[1;33m+\u001b[0m \u001b[1;36m0.5\u001b[0m \u001b[1;33m*\u001b[0m \u001b[0mtau_P\u001b[0m\u001b[1;33m(\u001b[0m\u001b[0mtau_R\u001b[0m\u001b[1;33m(\u001b[0m\u001b[0mT\u001b[0m\u001b[1;33m,\u001b[0m \u001b[0mΣ\u001b[0m\u001b[1;33m)\u001b[0m\u001b[1;33m)\u001b[0m\u001b[1;33m**\u001b[0m\u001b[1;33m(\u001b[0m\u001b[1;33m-\u001b[0m\u001b[1;36m1\u001b[0m\u001b[1;33m)\u001b[0m\u001b[1;33m)\u001b[0m \u001b[1;33m*\u001b[0m \u001b[0mFrad_weakDW\u001b[0m\u001b[1;33m(\u001b[0m\u001b[0mΣ\u001b[0m\u001b[1;33m,\u001b[0m \u001b[0mc_s2\u001b[0m\u001b[1;33m(\u001b[0m\u001b[0mT\u001b[0m\u001b[1;33m)\u001b[0m\u001b[1;33m)\u001b[0m\u001b[1;33m)\u001b[0m\u001b[1;33m**\u001b[0m\u001b[1;33m(\u001b[0m\u001b[1;36m0.25\u001b[0m\u001b[1;33m)\u001b[0m\u001b[1;33m)\u001b[0m\u001b[1;33m.\u001b[0m\u001b[0mdecompose\u001b[0m\u001b[1;33m(\u001b[0m\u001b[1;33m)\u001b[0m\u001b[1;33m\u001b[0m\u001b[1;33m\u001b[0m\u001b[0m\n\u001b[0m",
      "\u001b[1;32m~\\AppData\\Local\\Temp/ipykernel_8304/182093005.py\u001b[0m in \u001b[0;36mFrad_weakDW\u001b[1;34m(Σ, cs2, α_rφ, α_φz, ε_rad)\u001b[0m\n\u001b[0;32m      1\u001b[0m \u001b[1;32mdef\u001b[0m \u001b[0mFrad_weakDW\u001b[0m\u001b[1;33m(\u001b[0m\u001b[0mΣ\u001b[0m\u001b[1;33m,\u001b[0m \u001b[0mcs2\u001b[0m\u001b[1;33m,\u001b[0m \u001b[0mα_rφ\u001b[0m \u001b[1;33m=\u001b[0m \u001b[1;36m8e-3\u001b[0m\u001b[1;33m,\u001b[0m \u001b[0mα_φz\u001b[0m \u001b[1;33m=\u001b[0m \u001b[1;36m0\u001b[0m\u001b[1;33m,\u001b[0m \u001b[0mε_rad\u001b[0m \u001b[1;33m=\u001b[0m \u001b[1;36m0.9\u001b[0m\u001b[1;33m)\u001b[0m\u001b[1;33m:\u001b[0m\u001b[1;33m\u001b[0m\u001b[1;33m\u001b[0m\u001b[0m\n\u001b[1;32m----> 2\u001b[1;33m     \u001b[1;32mreturn\u001b[0m \u001b[0mε_rad\u001b[0m \u001b[1;33m*\u001b[0m \u001b[1;33m(\u001b[0m\u001b[1;36m3\u001b[0m\u001b[1;33m/\u001b[0m\u001b[1;36m2\u001b[0m \u001b[1;33m*\u001b[0m \u001b[0mΩ\u001b[0m \u001b[1;33m*\u001b[0m \u001b[0mΣ\u001b[0m \u001b[1;33m*\u001b[0m \u001b[0mα_rφ\u001b[0m \u001b[1;33m*\u001b[0m \u001b[0mcs2\u001b[0m \u001b[1;33m+\u001b[0m \u001b[0mr_au\u001b[0m \u001b[1;33m*\u001b[0m \u001b[0mΩ\u001b[0m \u001b[1;33m*\u001b[0m \u001b[0mα_φz\u001b[0m \u001b[1;33m*\u001b[0m \u001b[0mnp\u001b[0m\u001b[1;33m.\u001b[0m\u001b[0msqrt\u001b[0m\u001b[1;33m(\u001b[0m\u001b[0mcs2\u001b[0m\u001b[1;33m)\u001b[0m \u001b[1;33m/\u001b[0m \u001b[0mnp\u001b[0m\u001b[1;33m.\u001b[0m\u001b[0msqrt\u001b[0m\u001b[1;33m(\u001b[0m\u001b[1;36m2\u001b[0m\u001b[1;33m*\u001b[0m\u001b[0mnp\u001b[0m\u001b[1;33m.\u001b[0m\u001b[0mpi\u001b[0m\u001b[1;33m)\u001b[0m \u001b[1;33m*\u001b[0m \u001b[0mΣ\u001b[0m \u001b[1;33m*\u001b[0m \u001b[0mΩ\u001b[0m\u001b[1;33m)\u001b[0m\u001b[1;33m.\u001b[0m\u001b[0mdecompose\u001b[0m\u001b[1;33m(\u001b[0m\u001b[1;33m)\u001b[0m\u001b[1;33m\u001b[0m\u001b[1;33m\u001b[0m\u001b[0m\n\u001b[0m",
      "\u001b[1;32m~\\anaconda3\\lib\\site-packages\\astropy\\units\\quantity.py\u001b[0m in \u001b[0;36m__array_ufunc__\u001b[1;34m(self, function, method, *inputs, **kwargs)\u001b[0m\n\u001b[0;32m    464\u001b[0m         \u001b[1;31m# consistent units between two inputs (e.g., in np.add) --\u001b[0m\u001b[1;33m\u001b[0m\u001b[1;33m\u001b[0m\u001b[0m\n\u001b[0;32m    465\u001b[0m         \u001b[1;31m# and the unit of the result (or tuple of units for nout > 1).\u001b[0m\u001b[1;33m\u001b[0m\u001b[1;33m\u001b[0m\u001b[0m\n\u001b[1;32m--> 466\u001b[1;33m         \u001b[0mconverters\u001b[0m\u001b[1;33m,\u001b[0m \u001b[0munit\u001b[0m \u001b[1;33m=\u001b[0m \u001b[0mconverters_and_unit\u001b[0m\u001b[1;33m(\u001b[0m\u001b[0mfunction\u001b[0m\u001b[1;33m,\u001b[0m \u001b[0mmethod\u001b[0m\u001b[1;33m,\u001b[0m \u001b[1;33m*\u001b[0m\u001b[0minputs\u001b[0m\u001b[1;33m)\u001b[0m\u001b[1;33m\u001b[0m\u001b[1;33m\u001b[0m\u001b[0m\n\u001b[0m\u001b[0;32m    467\u001b[0m \u001b[1;33m\u001b[0m\u001b[0m\n\u001b[0;32m    468\u001b[0m         \u001b[0mout\u001b[0m \u001b[1;33m=\u001b[0m \u001b[0mkwargs\u001b[0m\u001b[1;33m.\u001b[0m\u001b[0mget\u001b[0m\u001b[1;33m(\u001b[0m\u001b[1;34m'out'\u001b[0m\u001b[1;33m,\u001b[0m \u001b[1;32mNone\u001b[0m\u001b[1;33m)\u001b[0m\u001b[1;33m\u001b[0m\u001b[1;33m\u001b[0m\u001b[0m\n",
      "\u001b[1;32m~\\anaconda3\\lib\\site-packages\\astropy\\units\\quantity_helper\\converters.py\u001b[0m in \u001b[0;36mconverters_and_unit\u001b[1;34m(function, method, *args)\u001b[0m\n\u001b[0;32m    172\u001b[0m \u001b[1;33m\u001b[0m\u001b[0m\n\u001b[0;32m    173\u001b[0m         \u001b[1;31m# Determine possible conversion functions, and the result unit.\u001b[0m\u001b[1;33m\u001b[0m\u001b[1;33m\u001b[0m\u001b[0m\n\u001b[1;32m--> 174\u001b[1;33m         \u001b[0mconverters\u001b[0m\u001b[1;33m,\u001b[0m \u001b[0mresult_unit\u001b[0m \u001b[1;33m=\u001b[0m \u001b[0mufunc_helper\u001b[0m\u001b[1;33m(\u001b[0m\u001b[0mfunction\u001b[0m\u001b[1;33m,\u001b[0m \u001b[1;33m*\u001b[0m\u001b[0munits\u001b[0m\u001b[1;33m)\u001b[0m\u001b[1;33m\u001b[0m\u001b[1;33m\u001b[0m\u001b[0m\n\u001b[0m\u001b[0;32m    175\u001b[0m \u001b[1;33m\u001b[0m\u001b[0m\n\u001b[0;32m    176\u001b[0m         \u001b[1;32mif\u001b[0m \u001b[0many\u001b[0m\u001b[1;33m(\u001b[0m\u001b[0mconverter\u001b[0m \u001b[1;32mis\u001b[0m \u001b[1;32mFalse\u001b[0m \u001b[1;32mfor\u001b[0m \u001b[0mconverter\u001b[0m \u001b[1;32min\u001b[0m \u001b[0mconverters\u001b[0m\u001b[1;33m)\u001b[0m\u001b[1;33m:\u001b[0m\u001b[1;33m\u001b[0m\u001b[1;33m\u001b[0m\u001b[0m\n",
      "\u001b[1;32m~\\anaconda3\\lib\\site-packages\\astropy\\units\\quantity_helper\\helpers.py\u001b[0m in \u001b[0;36mget_converters_and_unit\u001b[1;34m(f, unit1, unit2)\u001b[0m\n\u001b[0;32m     68\u001b[0m             \u001b[0mconverters\u001b[0m\u001b[1;33m[\u001b[0m\u001b[0mchangeable\u001b[0m\u001b[1;33m]\u001b[0m \u001b[1;33m=\u001b[0m \u001b[0mget_converter\u001b[0m\u001b[1;33m(\u001b[0m\u001b[0munit2\u001b[0m\u001b[1;33m,\u001b[0m \u001b[0munit1\u001b[0m\u001b[1;33m)\u001b[0m\u001b[1;33m\u001b[0m\u001b[1;33m\u001b[0m\u001b[0m\n\u001b[0;32m     69\u001b[0m         \u001b[1;32mexcept\u001b[0m \u001b[0mUnitsError\u001b[0m\u001b[1;33m:\u001b[0m\u001b[1;33m\u001b[0m\u001b[1;33m\u001b[0m\u001b[0m\n\u001b[1;32m---> 70\u001b[1;33m             raise UnitConversionError(\n\u001b[0m\u001b[0;32m     71\u001b[0m                 \u001b[1;34m\"Can only apply '{}' function to quantities \"\u001b[0m\u001b[1;33m\u001b[0m\u001b[1;33m\u001b[0m\u001b[0m\n\u001b[0;32m     72\u001b[0m                 \u001b[1;34m\"with compatible dimensions\"\u001b[0m\u001b[1;33m\u001b[0m\u001b[1;33m\u001b[0m\u001b[0m\n",
      "\u001b[1;31mUnitConversionError\u001b[0m: Can only apply 'add' function to quantities with compatible dimensions"
     ]
    }
   ],
   "source": [
    "res3 = fsolve(lambda T: (T_vis_weakDW(T, Σ_initial(r_au)).value**4 + T_req.value**4 - T**4), x0 = T_req.value)"
   ]
  },
  {
   "cell_type": "code",
   "execution_count": null,
   "metadata": {},
   "outputs": [],
   "source": []
  }
 ],
 "metadata": {
  "interpreter": {
   "hash": "c72a629dba5ae9edebcad565c17c3988d814021371aabb3db62cb04d2b10dbfe"
  },
  "kernelspec": {
   "display_name": "Python 3.9.7 ('base')",
   "language": "python",
   "name": "python3"
  },
  "language_info": {
   "codemirror_mode": {
    "name": "ipython",
    "version": 3
   },
   "file_extension": ".py",
   "mimetype": "text/x-python",
   "name": "python",
   "nbconvert_exporter": "python",
   "pygments_lexer": "ipython3",
   "version": "3.9.7"
  },
  "orig_nbformat": 4
 },
 "nbformat": 4,
 "nbformat_minor": 2
}
