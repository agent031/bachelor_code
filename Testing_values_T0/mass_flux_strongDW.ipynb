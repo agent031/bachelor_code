{
 "cells": [
  {
   "cell_type": "code",
   "execution_count": 21,
   "metadata": {},
   "outputs": [],
   "source": [
    "import matplotlib as mpl\n",
    "import matplotlib.pyplot as plt\n",
    "from astropy.constants import c, k_B, M_sun, G, m_p, sigma_sb, m_p\n",
    "import astropy.units as u\n",
    "from scipy.sparse import csr_matrix\n",
    "from scipy.optimize import fsolve, differential_evolution, minimize\n",
    "import numpy as np\n",
    "import numba\n",
    "import sys\n",
    "\n",
    "sys.path.append('../Numerical_methods')\n",
    "from bachelor_funcs import Σ_initial, c_s2\n",
    "from unchanged_values import r_au, sD1_log, Ω, T_req\n",
    "\n",
    "# Set som plotting standards:\n",
    "font = {'family' : 'serif',\n",
    "        'weight' : 'normal',\n",
    "        'size'   : 12}\n",
    "mpl.rc('font', **font)"
   ]
  },
  {
   "cell_type": "markdown",
   "metadata": {},
   "source": [
    "## Disc wind mass flux $C_W$\n",
    "### $C_{w,e}$ Disc wind mass flux constrained by energetics\n",
    "$$C_{w,e}=max\\left(\\frac{2}{r^3\\Omega(\\rho c_s)_{mid}}\\partial_r(r^2\\Sigma\\alpha_{r\\phi}c_s^2)\\;+\\;\\frac{2c_s},\\;0\\right)$$\n",
    "$$(\\rho c_s)_{mid} = \\frac{1}{\\sqrt{2\\pi}}\\Sigma \\Omega$$\n",
    "### $C_{w,0}$ A constant size constrained by the density at the midplane $\\alpha_{r\\phi}$\n",
    "*For MRI-inactive $\\alpha_{r\\phi} = 8\\cdot10^{-5}$:*\n",
    "$$C_{w,0}=10^{-5}$$"
   ]
  },
  {
   "cell_type": "markdown",
   "metadata": {},
   "source": [
    "$$C_W = \\text{min}(C_{w,0},\\;C_{w,e})$$"
   ]
  },
  {
   "cell_type": "markdown",
   "metadata": {},
   "source": [
    "# Disc wind torque $\\alpha_{\\phi z}$\n",
    "### Zero-torque:\n",
    "$$\\alpha_{\\phi z}=0$$\n",
    "### Constant-torque:\n",
    "$$\\alpha_{\\phi z} = 10^{-4}$$\n",
    "### $\\Sigma$-dependent torque:\n",
    "$$\\alpha_{\\phi z} = \\text{min}\\left(10^{-5}\\left(\\frac{\\Sigma}{\\Sigma_{int}}\\right)^{-0.66},\\;1\\right)$$"
   ]
  },
  {
   "cell_type": "code",
   "execution_count": 22,
   "metadata": {},
   "outputs": [],
   "source": [
    "def α_φz_func(Σ):\n",
    "    Σ_relation = 1e-5 * (Σ / Σ_initial(r_au))**(-0.66)\n",
    "    Σ_relation[Σ_relation >= 1] = 1\n",
    "    return Σ_relation"
   ]
  },
  {
   "cell_type": "code",
   "execution_count": 23,
   "metadata": {},
   "outputs": [],
   "source": [
    "def ρ_cs_mid(Σ):\n",
    "    return ((2 * np.pi)**(-0.5) * Σ * Ω).decompose()   "
   ]
  },
  {
   "cell_type": "code",
   "execution_count": 24,
   "metadata": {},
   "outputs": [
    {
     "data": {
      "text/latex": [
       "$[13498.388,~10960.22,~8899.2998,~\\dots,~2.0603508 \\times 10^{-140},~1.4634245 \\times 10^{-149},~2.3205952 \\times 10^{-159}] \\; \\mathrm{\\frac{kg}{s\\,m^{2}}}$"
      ],
      "text/plain": [
       "<Quantity [1.34983884e+004, 1.09602195e+004, 8.89929976e+003,\n",
       "           7.22589451e+003, 5.86714118e+003, 4.76387699e+003,\n",
       "           3.86806311e+003, 3.14069313e+003, 2.55009479e+003,\n",
       "           2.07055097e+003, 1.68118004e+003, 1.36502664e+003,\n",
       "           1.10832347e+003, 8.99891866e+002, 7.30655071e+002,\n",
       "           5.93243016e+002, 4.81671430e+002, 3.91081274e+002,\n",
       "           3.17527163e+002, 2.57805578e+002, 2.09315373e+002,\n",
       "           1.69944512e+002, 1.37978101e+002, 1.12023714e+002,\n",
       "           9.09507579e+001, 7.38412408e+001, 5.99497932e+001,\n",
       "           4.86712107e+001, 3.95140968e+001, 3.20794633e+001,\n",
       "           2.60433532e+001, 2.11427321e+001, 1.71640316e+001,\n",
       "           1.39338480e+001, 1.13113888e+001, 9.18234060e+000,\n",
       "           7.45388927e+000, 6.05067712e+000, 4.91151994e+000,\n",
       "           3.98674154e+000, 3.23600949e+000, 2.62657783e+000,\n",
       "           2.13186028e+000, 1.73027173e+000, 1.40428764e+000,\n",
       "           1.13968026e+000, 9.24898562e-001, 7.50564760e-001,\n",
       "           6.09065498e-001, 4.94219958e-001, 4.01010374e-001,\n",
       "           3.25363233e-001, 2.63971639e-001, 2.14151074e-001,\n",
       "           1.73722306e-001, 1.40916311e-001, 1.14297088e-001,\n",
       "           9.26989895e-002, 7.51758454e-002, 6.09596553e-002,\n",
       "           4.94270546e-002, 4.00720898e-002, 3.24841158e-002,\n",
       "           2.63298535e-002, 2.13388226e-002, 1.72915172e-002,\n",
       "           1.40098059e-002, 1.13491394e-002, 9.19222480e-003,\n",
       "           7.44389052e-003, 6.02691853e-003, 4.87866084e-003,\n",
       "           3.94829346e-003, 3.19458741e-003, 2.58409955e-003,\n",
       "           2.08970437e-003, 1.68940222e-003, 1.36535225e-003,\n",
       "           1.10308755e-003, 8.90878245e-004, 7.19214684e-004,\n",
       "           5.80388056e-004, 4.68150139e-004, 3.77437220e-004,\n",
       "           3.04146120e-004, 2.44952492e-004, 1.97163429e-004,\n",
       "           1.58597903e-004, 1.27489802e-004, 1.02409278e-004,\n",
       "           8.21989805e-005, 6.59223408e-005, 5.28216450e-005,\n",
       "           4.22840448e-005, 3.38140050e-005, 2.70109731e-005,\n",
       "           2.15512826e-005, 1.71734905e-005, 1.36664976e-005,\n",
       "           1.08599268e-005, 8.61633087e-006, 6.82488229e-006,\n",
       "           5.39626587e-006, 4.25854459e-006, 3.35381462e-006,\n",
       "           2.63549937e-006, 2.06616123e-006, 1.61573232e-006,\n",
       "           1.26008468e-006, 9.79875047e-007, 7.59611934e-007,\n",
       "           5.86902457e-007, 4.51844627e-007, 3.46537201e-007,\n",
       "           2.64684576e-007, 2.01278472e-007, 1.52341639e-007,\n",
       "           1.14721636e-007, 8.59250285e-008, 6.39841736e-008,\n",
       "           4.73502963e-008, 3.48077371e-008, 2.54052550e-008,\n",
       "           1.84010565e-008, 1.32188630e-008, 9.41284881e-009,\n",
       "           6.63970474e-009, 4.63641658e-009, 3.20262612e-009,\n",
       "           2.18666141e-009, 1.47450213e-009, 9.81089887e-010,\n",
       "           6.43509139e-010, 4.15658038e-010, 2.64103450e-010,\n",
       "           1.64875009e-010, 1.01001536e-010, 6.06322171e-011,\n",
       "           3.56162978e-011, 2.04402407e-011, 1.14416448e-011,\n",
       "           6.23558513e-012, 3.30230617e-012, 1.69595328e-012,\n",
       "           8.42767087e-013, 4.04268716e-013, 1.86723687e-013,\n",
       "           8.28159507e-014, 3.51679882e-014, 1.42541929e-014,\n",
       "           5.49596987e-015, 2.00859831e-015, 6.93133989e-016,\n",
       "           2.24918296e-016, 6.83274439e-017, 1.93405847e-017,\n",
       "           5.07506123e-018, 1.22784858e-018, 2.72298160e-019,\n",
       "           5.50076654e-020, 1.00546555e-020, 1.65102668e-021,\n",
       "           2.41677848e-022, 3.12771943e-023, 3.54716443e-024,\n",
       "           3.49200921e-025, 2.95387128e-026, 2.12370324e-027,\n",
       "           1.28264255e-028, 6.42666287e-030, 2.63572913e-031,\n",
       "           8.72166527e-033, 2.29287283e-034, 4.71041523e-036,\n",
       "           7.42912103e-038, 8.82595068e-040, 7.73900012e-042,\n",
       "           4.90032618e-044, 2.18885845e-046, 6.72617206e-049,\n",
       "           1.38419628e-051, 1.85348480e-054, 1.56575698e-057,\n",
       "           8.07274737e-061, 2.45168006e-064, 4.22208631e-068,\n",
       "           3.95820951e-072, 1.93371698e-076, 4.69741238e-081,\n",
       "           5.39612801e-086, 2.77767537e-091, 6.04774341e-097,\n",
       "           5.23543743e-103, 1.68641365e-109, 1.88260987e-116,\n",
       "           6.74926039e-124, 7.16123054e-132, 2.06035082e-140,\n",
       "           1.46342452e-149, 2.32059518e-159] kg / (m2 s)>"
      ]
     },
     "execution_count": 24,
     "metadata": {},
     "output_type": "execute_result"
    }
   ],
   "source": [
    "ρ_cs_mid(Σ_initial(r_au))"
   ]
  },
  {
   "cell_type": "code",
   "execution_count": 25,
   "metadata": {},
   "outputs": [],
   "source": [
    "α_rφ = 8e-5\n",
    "ρ_cs_mid(Σ_initial(r_au))\n",
    "def part1(Σ):\n",
    "    return 2 * ((r_au**3 * Ω * ρ_cs_mid(Σ))**(-1)).decompose()\n",
    "\n",
    "def part2(Σ, T):\n",
    "    to_dev = (r_au**2 * Σ * α_rφ * c_s2(T)).decompose()\n",
    "    return (r_au**(-1) * (sD1_log @ to_dev) * to_dev.unit).decompose()\n",
    "\n",
    "def part3(T, α_φz):\n",
    "    return ((2 * np.sqrt(c_s2(T))) / (r_au * Ω) * α_φz).decompose()\n",
    "\n",
    "C = part1(Σ_initial(r_au)) * part2(Σ_initial(r_au), T_req) + part3(T_req, 1e-5)\n"
   ]
  },
  {
   "cell_type": "code",
   "execution_count": 26,
   "metadata": {},
   "outputs": [],
   "source": [
    "def C_we(Σ, T, α_φz):\n",
    "    def part1(Σ):\n",
    "        return 2 * ((r_au**3 * Ω * ρ_cs_mid(Σ))**(-1)).decompose()\n",
    "\n",
    "    def part2(Σ, T):\n",
    "        to_dev = (r_au**2 * Σ * α_rφ * c_s2(T)).decompose()\n",
    "        return (r_au**(-1) * (sD1_log @ to_dev) * to_dev.unit).decompose()\n",
    "\n",
    "    def part3(T, α_φz):\n",
    "        return ((2 * np.sqrt(c_s2(T))) / (r_au * Ω) * α_φz).decompose()\n",
    "    \n",
    "    C_we = (part1(Σ) * part2(Σ, T) + part3(T, α_φz)).value\n",
    "    C_we[C_we < 0] = 0\n",
    "\n",
    "    return C_we    "
   ]
  },
  {
   "cell_type": "code",
   "execution_count": null,
   "metadata": {},
   "outputs": [],
   "source": [
    "def C_w(Cw0, Cwe):\n",
    "    C_W = Cw0 * np.ones_like(r_au)\n",
    "    C_W[C_W > Cwe] = Cwe\n",
    "    return C_W"
   ]
  },
  {
   "cell_type": "code",
   "execution_count": 29,
   "metadata": {},
   "outputs": [
    {
     "data": {
      "text/plain": [
       "<matplotlib.legend.Legend at 0x2146eaa53a0>"
      ]
     },
     "execution_count": 29,
     "metadata": {},
     "output_type": "execute_result"
    },
    {
     "data": {
      "image/png": "[encoded data removed]",
      "text/plain": [
       "<Figure size 720x432 with 1 Axes>"
      ]
     },
     "metadata": {
      "needs_background": "light"
     },
     "output_type": "display_data"
    }
   ],
   "source": [
    "fig, axs = plt.subplots(figsize = (10, 6))\n",
    "axs.grid(ls='--')\n",
    "\n",
    "axs.loglog(r_au, 1e-5 * np.ones_like(r_au), c='grey', label = f'C_w0: {1e-5}')\n",
    "axs.loglog(r_au, C_we(Σ_initial(r_au), T_req, 1e-5), label= f'C_we')\n",
    "\n",
    "\n",
    "plt.legend(frameon=False)"
   ]
  },
  {
   "cell_type": "code",
   "execution_count": null,
   "metadata": {},
   "outputs": [],
   "source": []
  }
 ],
 "metadata": {
  "interpreter": {
   "hash": "c72a629dba5ae9edebcad565c17c3988d814021371aabb3db62cb04d2b10dbfe"
  },
  "kernelspec": {
   "display_name": "Python 3.9.7 ('base')",
   "language": "python",
   "name": "python3"
  },
  "language_info": {
   "codemirror_mode": {
    "name": "ipython",
    "version": 3
   },
   "file_extension": ".py",
   "mimetype": "text/x-python",
   "name": "python",
   "nbconvert_exporter": "python",
   "pygments_lexer": "ipython3",
   "version": "3.9.7"
  },
  "orig_nbformat": 4
 },
 "nbformat": 4,
 "nbformat_minor": 2
}
