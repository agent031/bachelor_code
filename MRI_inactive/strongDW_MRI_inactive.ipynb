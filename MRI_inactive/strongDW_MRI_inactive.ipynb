{
 "cells": [
  {
   "cell_type": "code",
   "execution_count": 1,
   "metadata": {},
   "outputs": [],
   "source": [
    "import matplotlib as mpl\n",
    "import matplotlib.pyplot as plt\n",
    "from astropy.constants import c, k_B, M_sun, G, m_p, sigma_sb, m_p\n",
    "import astropy.units as u\n",
    "from scipy.sparse import csr_matrix\n",
    "from scipy.optimize import fsolve, differential_evolution, minimize\n",
    "import numpy as np\n",
    "import numba\n",
    "import sys\n",
    "\n",
    "sys.path.append('../Numerical_methods')\n",
    "from bachelor_funcs import Σ_initial, find_temp, T_vis_strongDW, c_s2, ρ_cs_mid, C_w\n",
    "from unchanged_values import r_au, sD1_log, Ω, T_req, color_use\n",
    "\n",
    "# Set som plotting standards:\n",
    "font = {'family' : 'serif',\n",
    "        'weight' : 'normal',\n",
    "        'size'   : 15}\n",
    "mpl.rc('font', **font)"
   ]
  },
  {
   "cell_type": "code",
   "execution_count": 2,
   "metadata": {},
   "outputs": [],
   "source": [
    "T0_strongDW_inactive = np.genfromtxt('..\\Temperature_presets\\T0_MRI_inactive_strongDW.csv') * u.K"
   ]
  },
  {
   "cell_type": "code",
   "execution_count": 3,
   "metadata": {},
   "outputs": [
    {
     "name": "stdout",
     "output_type": "stream",
     "text": [
      "K\n"
     ]
    },
    {
     "data": {
      "image/png": "[encoded data removed]",
      "text/plain": [
       "<Figure size 720x288 with 1 Axes>"
      ]
     },
     "metadata": {
      "needs_background": "light"
     },
     "output_type": "display_data"
    }
   ],
   "source": [
    "fig, axs = plt.subplots(figsize = (10, 4))\n",
    "axs.loglog(r_au, T0_strongDW_inactive, ':')\n",
    "\n",
    "axs.grid(axis = 'x', which = 'both', alpha = 0.4)\n",
    "axs.grid(axis = 'y', which = 'major', alpha = 0.4)\n",
    "axs.set(xlim = (0.01, 300), xlabel = 'r [AU]', ylabel = 'T [K]');\n",
    "print(T0_strongDW_inactive.unit)"
   ]
  },
  {
   "cell_type": "markdown",
   "metadata": {},
   "source": [
    "$$\\partial_t\\Sigma = \\frac{1}{r}\\partial_r\\left[\n",
    "    \\frac{2}{r\\Omega} \n",
    "    \\left \\{\n",
    "    \\partial_r\\left(\n",
    "    r^2\\Sigma\\alpha_{r\\phi}c_s^2\n",
    "    \\right)\n",
    "    + r^2\\alpha_{\\phi z}(\\rho c_s^2)_{\\text{mid}}\n",
    "    \\right\\}\\right]\n",
    "    - C_{\\text{w}}(\\rho c_s)_{\\text{mid}}\n",
    "$$"
   ]
  },
  {
   "cell_type": "markdown",
   "metadata": {},
   "source": [
    "## First try will be for:\n",
    "### - Strong DW\n",
    "### - MRI-inactive\n",
    "### - Constant torque"
   ]
  },
  {
   "cell_type": "code",
   "execution_count": 4,
   "metadata": {},
   "outputs": [],
   "source": [
    "def part1(T, Σ, α_rφ = 8e-5):\n",
    "    to_dev = (r_au**2 * Σ * α_rφ * c_s2(T)).decompose()\n",
    "    dev = (r_au**(-1) * (sD1_log @ to_dev) * to_dev.unit).decompose()\n",
    "    return dev"
   ]
  },
  {
   "cell_type": "code",
   "execution_count": 5,
   "metadata": {},
   "outputs": [],
   "source": [
    "def part2(T, Σ, α_φz = 1e-4):\n",
    "    return (r_au**2 * α_φz * ρ_cs_mid(Σ) * np.sqrt(c_s2(T))).decompose() "
   ]
  },
  {
   "cell_type": "code",
   "execution_count": 22,
   "metadata": {},
   "outputs": [],
   "source": [
    "def part3(T, Σ, α_φz = 1e-4):\n",
    "    return (C_w(T, Σ, α_φz) * ρ_cs_mid(Σ))\n",
    "    "
   ]
  },
  {
   "cell_type": "code",
   "execution_count": null,
   "metadata": {},
   "outputs": [],
   "source": []
  }
 ],
 "metadata": {
  "interpreter": {
   "hash": "c72a629dba5ae9edebcad565c17c3988d814021371aabb3db62cb04d2b10dbfe"
  },
  "kernelspec": {
   "display_name": "Python 3.9.7 ('base')",
   "language": "python",
   "name": "python3"
  },
  "language_info": {
   "codemirror_mode": {
    "name": "ipython",
    "version": 3
   },
   "file_extension": ".py",
   "mimetype": "text/x-python",
   "name": "python",
   "nbconvert_exporter": "python",
   "pygments_lexer": "ipython3",
   "version": "3.9.7"
  },
  "orig_nbformat": 4
 },
 "nbformat": 4,
 "nbformat_minor": 2
}
